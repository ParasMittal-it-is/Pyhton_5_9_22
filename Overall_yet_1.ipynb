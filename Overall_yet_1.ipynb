{
 "cells": [
  {
   "cell_type": "code",
   "execution_count": 3,
   "id": "5588a790",
   "metadata": {},
   "outputs": [
    {
     "name": "stdout",
     "output_type": "stream",
     "text": [
      "Enter value of num1 :- 25\n",
      "Enter value of num2 :- 25\n",
      "Before Swapping num1 =  25 , num2 =  25\n",
      "After Swapping num1 =  25 , num2 =  25\n",
      "Enter value of num1 :- 15\n",
      "Enter value of num2 :- 51\n",
      "Before Swapping num1 =  15 , num2 =  51\n",
      "After Swapping num1 =  51 , num2 =  15\n",
      "Enter value of num1 :- 51\n",
      "Enter value of num2 :- 15\n",
      "Before Swapping num1 =  51 , num2 =  15\n",
      "After Swapping num1 =  15 , num2 =  51\n"
     ]
    }
   ],
   "source": [
    "# WAP to swap two numbers by using third variable, without using third variable, by using some maths\n",
    "#1. By using third variable\n",
    "num1 = int(input(\"Enter value of num1 :- \"))\n",
    "num2 = int(input(\"Enter value of num2 :- \"))\n",
    "print(\"Before Swapping num1 = \", num1,\", num2 = \",num2)\n",
    "temp = num1\n",
    "num1 = num2\n",
    "num2 = temp\n",
    "print(\"After Swapping num1 = \", num1,\", num2 = \",num2)\n",
    "\n",
    "#2.Without using third variable (Only works in Python)\n",
    "num1 = int(input(\"Enter value of num1 :- \"))\n",
    "num2 = int(input(\"Enter value of num2 :- \"))\n",
    "print(\"Before Swapping num1 = \", num1,\", num2 = \",num2)\n",
    "num1, num2 = num2, num1\n",
    "print(\"After Swapping num1 = \", num1,\", num2 = \",num2)\n",
    "\n",
    "#3.Without using third variable with mathematics\n",
    "num1 = int(input(\"Enter value of num1 :- \"))\n",
    "num2 = int(input(\"Enter value of num2 :- \"))\n",
    "print(\"Before Swapping num1 = \", num1,\", num2 = \",num2)\n",
    "num1 = num1+num2\n",
    "num2 = num1-num2\n",
    "num1 = num1-num2\n",
    "print(\"After Swapping num1 = \", num1,\", num2 = \",num2)"
   ]
  },
  {
   "cell_type": "code",
   "execution_count": 4,
   "id": "aa032b31",
   "metadata": {},
   "outputs": [
    {
     "name": "stdout",
     "output_type": "stream",
     "text": [
      "Average :-  5.5\n"
     ]
    }
   ],
   "source": [
    "# Average of first 10 N numbers\n",
    "sum =0\n",
    "for i in range(1,11):\n",
    "    sum+=i\n",
    "print(\"Average :- \",sum/10)"
   ]
  },
  {
   "cell_type": "code",
   "execution_count": null,
   "id": "c8becc34",
   "metadata": {},
   "outputs": [],
   "source": [
    "# WAP to input salary and service years and if years are more than '5', Bonus will be of 5% otherwise 0\n",
    "sal = float(input(\"Enter your salary :- \"))\n",
    "s_y = float(input(\"Enter Service Years :- \"))\n",
    "if s_y>5:\n",
    "    bonus = (sal*5)/100\n",
    "    sal+=bonus\n",
    "else:\n",
    "    bonus = 0\n",
    "print(\"\\nBonus (On the Basis of your service years) :- \", bonus)\n",
    "print(\"Final Salary :- \",sal )"
   ]
  },
  {
   "cell_type": "code",
   "execution_count": 3,
   "id": "9e253231",
   "metadata": {},
   "outputs": [
    {
     "name": "stdout",
     "output_type": "stream",
     "text": [
      "Enter the length :- -59\n",
      "Enter the width :- 25\n",
      "Neither square nor rectangle\n"
     ]
    }
   ],
   "source": [
    "# WAP to I/P length and width from user and tell if its square or rectangle\n",
    "l = float(input(\"Enter the length :- \"))\n",
    "w = float(input(\"Enter the width :- \"))\n",
    "if l==w:\n",
    "    print(\"Its a square\")\n",
    "elif l==0 or w ==0 or l<0 or w<0:\n",
    "    print(\"Neither square nor rectangle\")\n",
    "else:\n",
    "    print(\"Rectangle\")"
   ]
  },
  {
   "cell_type": "code",
   "execution_count": 5,
   "id": "86701483",
   "metadata": {},
   "outputs": [
    {
     "name": "stdout",
     "output_type": "stream",
     "text": [
      "For different number only\n",
      "\n",
      "Enter first number :- 25.98\n",
      "Enter second number :- 25.545\n",
      "Enter third number :- 25.444999\n",
      "25.98  is greater\n"
     ]
    }
   ],
   "source": [
    "# WAP to tell which number is greater\n",
    "print(\"For different number only\")\n",
    "\n",
    "num1 = float(input(\"\\nEnter first number :- \"))\n",
    "num2 = float(input(\"Enter second number :- \"))\n",
    "num3 = float(input(\"Enter third number :- \"))\n",
    "if num1>num2 and num1>num3:\n",
    "    print(num1, \" is greater\")\n",
    "elif num2>num1 and num2>num3:\n",
    "    print(num2, \" is greater\")\n",
    "elif num3>num1 and num3>num2:\n",
    "    print(num3, \" is greater\")\n",
    "else:\n",
    "    print(\"Missing valid input, #USER BADLO\")"
   ]
  },
  {
   "cell_type": "code",
   "execution_count": 9,
   "id": "dee0eabc",
   "metadata": {},
   "outputs": [
    {
     "name": "stdout",
     "output_type": "stream",
     "text": [
      "Enter Quantity :- 110\n",
      "After discount, \n",
      "    You have to pay only :- Rs. 9900.0 , Because you got the discount of Rs. 1100.0\n"
     ]
    }
   ],
   "source": [
    "# WAP to input quantity from user, if total cost is more than 1000, will get 10% discount.\n",
    "# Cost of single quantity will be considered 100\n",
    "qty = int(input(\"Enter Quantity :- \"))\n",
    "cost = 100*qty\n",
    "if cost>1000:\n",
    "    disc = (cost*10)/100\n",
    "    cost = cost-disc\n",
    "    print(\"After discount, \\n    You have to pay only :- Rs.\", cost, \", Because you got the discount of Rs.\", disc)\n",
    "else:\n",
    "    print(\"Your total billing amount is :- Rs.\", cost)"
   ]
  },
  {
   "cell_type": "code",
   "execution_count": 14,
   "id": "4c11bf1b",
   "metadata": {},
   "outputs": [
    {
     "name": "stdout",
     "output_type": "stream",
     "text": [
      "Enter total number of classes :- 25\n",
      "Enter number of attended classes :- 12\n",
      "Enter 'y' or 'Y' is there any medical issue else anything :- jsh\n",
      "NOT ALLOWED TO SIT IN EXAM\n"
     ]
    }
   ],
   "source": [
    "# WAP if a student can or cannot sit in the exam on the basis of attendance(by asking total and attended) is more than 75% or not\n",
    "#, if not then ask him or her\n",
    "# if there was any medical issue or not, allow if medical issue [use \"Y\" or \"N\"]\n",
    "\n",
    "held_c = int(input(\"Enter total number of classes :- \"))\n",
    "att_c = int(input(\"Enter number of attended classes :- \"))\n",
    "per = (att_c*100)/held_c\n",
    "\n",
    "if per>75:\n",
    "    print(\"ALLOWED to sit in exam\")\n",
    "else:\n",
    "    issue = input(\"Enter 'y' or 'Y' is there any medical issue else anything :- \")\n",
    "    if issue =='y' or issue == 'Y':\n",
    "        print(\"ALLOWED to sit in exam\")\n",
    "    else:\n",
    "        print(\"NOT ALLOWED TO SIT IN EXAM\")"
   ]
  },
  {
   "cell_type": "code",
   "execution_count": 16,
   "id": "2ca98e9d",
   "metadata": {},
   "outputs": [
    {
     "name": "stdout",
     "output_type": "stream",
     "text": [
      "-10\n",
      "-9\n",
      "-8\n",
      "-7\n",
      "-6\n",
      "-5\n",
      "-4\n",
      "-3\n",
      "-2\n",
      "-1\n",
      "0\n",
      "1\n",
      "2\n",
      "3\n",
      "4\n",
      "5\n",
      "6\n",
      "7\n",
      "8\n",
      "9\n",
      "10\n",
      "11\n"
     ]
    }
   ],
   "source": [
    "# WAP to print count from -10 to 11 \n",
    "for i in range(-10, 12):\n",
    "    print(i)"
   ]
  },
  {
   "cell_type": "code",
   "execution_count": 17,
   "id": "38a59b49",
   "metadata": {},
   "outputs": [
    {
     "name": "stdout",
     "output_type": "stream",
     "text": [
      "11\n",
      "10\n",
      "9\n",
      "8\n",
      "7\n",
      "6\n",
      "5\n",
      "4\n",
      "3\n",
      "2\n",
      "1\n",
      "0\n",
      "-1\n",
      "-2\n",
      "-3\n",
      "-4\n",
      "-5\n",
      "-6\n",
      "-7\n",
      "-8\n",
      "-9\n",
      "-10\n"
     ]
    }
   ],
   "source": [
    "# WAP to print count from 11 to -10\n",
    "for i in range(11, -11, -1):\n",
    "    print(i)"
   ]
  },
  {
   "cell_type": "code",
   "execution_count": 18,
   "id": "b7ec3852",
   "metadata": {},
   "outputs": [
    {
     "name": "stdout",
     "output_type": "stream",
     "text": [
      "Enter the starting value :- 25\n",
      "Enter the last value :- 100\n",
      "25  is odd\n",
      "26  is even\n",
      "27  is odd\n",
      "28  is even\n",
      "29  is odd\n",
      "30  is even\n",
      "31  is odd\n",
      "32  is even\n",
      "33  is odd\n",
      "34  is even\n",
      "35  is odd\n",
      "36  is even\n",
      "37  is odd\n",
      "38  is even\n",
      "39  is odd\n",
      "40  is even\n",
      "41  is odd\n",
      "42  is even\n",
      "43  is odd\n",
      "44  is even\n",
      "45  is odd\n",
      "46  is even\n",
      "47  is odd\n",
      "48  is even\n",
      "49  is odd\n",
      "50  is even\n",
      "51  is odd\n",
      "52  is even\n",
      "53  is odd\n",
      "54  is even\n",
      "55  is odd\n",
      "56  is even\n",
      "57  is odd\n",
      "58  is even\n",
      "59  is odd\n",
      "60  is even\n",
      "61  is odd\n",
      "62  is even\n",
      "63  is odd\n",
      "64  is even\n",
      "65  is odd\n",
      "66  is even\n",
      "67  is odd\n",
      "68  is even\n",
      "69  is odd\n",
      "70  is even\n",
      "71  is odd\n",
      "72  is even\n",
      "73  is odd\n",
      "74  is even\n",
      "75  is odd\n",
      "76  is even\n",
      "77  is odd\n",
      "78  is even\n",
      "79  is odd\n",
      "80  is even\n",
      "81  is odd\n",
      "82  is even\n",
      "83  is odd\n",
      "84  is even\n",
      "85  is odd\n",
      "86  is even\n",
      "87  is odd\n",
      "88  is even\n",
      "89  is odd\n",
      "90  is even\n",
      "91  is odd\n",
      "92  is even\n",
      "93  is odd\n",
      "94  is even\n",
      "95  is odd\n",
      "96  is even\n",
      "97  is odd\n",
      "98  is even\n",
      "99  is odd\n",
      "100  is even\n",
      "\n",
      " Total number of even values :-  38\n",
      "Total number of odd values :-  38\n"
     ]
    }
   ],
   "source": [
    "# WAP to count how many even and odd numbers are there in the entered range\n",
    "strt = int(input(\"Enter the starting value :- \"))\n",
    "end = int(input(\"Enter the last value :- \"))\n",
    "ce = 0\n",
    "co = 0\n",
    "for i in range(strt, (end+1)):\n",
    "    if i%2 == 0:\n",
    "        print(i, \" is even\")\n",
    "        ce+=1\n",
    "    else:\n",
    "        print(i, \" is odd\")\n",
    "        co+=1\n",
    "\n",
    "print(\"\\n Total number of even values :- \", ce)\n",
    "print(\"Total number of odd values :- \", co)"
   ]
  },
  {
   "cell_type": "code",
   "execution_count": 22,
   "id": "c653ca08",
   "metadata": {},
   "outputs": [
    {
     "name": "stdout",
     "output_type": "stream",
     "text": [
      "Enter the number :- 12.58\n",
      "12.58\n",
      "25.16\n",
      "37.74\n",
      "50.32\n",
      "62.9\n",
      "75.48\n",
      "88.06\n",
      "100.64\n",
      "113.22\n",
      "125.8\n"
     ]
    }
   ],
   "source": [
    "# WAP to print the table of entered value if integer in that format and if float then in that format\n",
    "num = (input(\"Enter the number :- \"))\n",
    "for i in num:\n",
    "    if i=='.':\n",
    "        num=float(num)\n",
    "        break\n",
    "if type(num)==str:\n",
    "    num = int(num)\n",
    "    \n",
    "for i in range(1, 11):\n",
    "    print(num*i)"
   ]
  },
  {
   "cell_type": "code",
   "execution_count": 24,
   "id": "dfa23b0b",
   "metadata": {},
   "outputs": [
    {
     "name": "stdout",
     "output_type": "stream",
     "text": [
      "Enter the string :- namah\n",
      "String is not Palindrome\n"
     ]
    }
   ],
   "source": [
    "# WAP to tell if string is palindrome or not\n",
    "str1 = input(\"Enter the string :- \")\n",
    "str2 = \"\"\n",
    "for i in str1:\n",
    "    str2 = i+str2\n",
    "if str1==str2:\n",
    "    print(\"String is Palindrome\")\n",
    "else:\n",
    "    print(\"String is not Palindrome\")"
   ]
  },
  {
   "cell_type": "code",
   "execution_count": 36,
   "id": "93c0962d",
   "metadata": {},
   "outputs": [
    {
     "name": "stdout",
     "output_type": "stream",
     "text": [
      "Enter the string :- JUPYTERY\n",
      "Enter which number of character you wanna remove :- 8\n",
      "Required String :-  JUPYTER\n"
     ]
    }
   ],
   "source": [
    "# WAP to remove the character at nth place in a string\n",
    "str1 = input(\"Enter the string :- \")\n",
    "n = int(input(\"Enter which number of character you wanna remove :- \"))\n",
    "length = len(str1)\n",
    "if len(str1)>=n:\n",
    "    str2 = ''\n",
    "    n=n-1\n",
    "    for i in range(0, length):\n",
    "        if i==n:\n",
    "            continue \n",
    "        str2 = str2+str1[i]\n",
    "    print(\"Required String :- \", str2)\n",
    "else:\n",
    "    print(\"There is no character at this position\")\n",
    "\n",
    "# IF WE DEVELOPE THIS PROGRAM USING STRING IN THE LOOP THAN OUTPUT WILL LOOK LIKE :- \n",
    "# STRING :- 'LOOP', NUMBER OF REMOVING LETTER :- 3, AFTER REMOVING STRING :- 'LP' \"IN PLACE OF 'LOP'\"\n"
   ]
  },
  {
   "cell_type": "code",
   "execution_count": 37,
   "id": "45f0733b",
   "metadata": {},
   "outputs": [
    {
     "name": "stdout",
     "output_type": "stream",
     "text": [
      "Enter the string :- Paaf\n",
      "Length of  Paaf  is  4\n"
     ]
    }
   ],
   "source": [
    "# WAP to find length of string in python without using any library function\n",
    "str1 = input(\"Enter the string :- \")\n",
    "length = 0\n",
    "for i in str1:\n",
    "    length+=1\n",
    "print(\"Length of \", str1, \" is \", length)"
   ]
  },
  {
   "cell_type": "code",
   "execution_count": 39,
   "id": "dd9f6c0b",
   "metadata": {},
   "outputs": [
    {
     "name": "stdout",
     "output_type": "stream",
     "text": [
      "Enter the string :- PARAS\n",
      "Enter the character you wanna replace with :- A\n",
      "After replacement :-  P@R@S\n"
     ]
    }
   ],
   "source": [
    "# Python program to replace all occurences of '?' with '@' in a string\n",
    "str1 = input(\"Enter the string :- \")\n",
    "char = input(\"Enter the character you wanna replace with :- \")\n",
    "str2 = ''\n",
    "for i in str1:\n",
    "    if i == char:\n",
    "        str2 = str2+'@'\n",
    "    else:\n",
    "        str2+=i\n",
    "print(\"After replacement :- \",str2)\n",
    "        "
   ]
  },
  {
   "cell_type": "code",
   "execution_count": 53,
   "id": "c1b7b834",
   "metadata": {},
   "outputs": [
    {
     "name": "stdout",
     "output_type": "stream",
     "text": [
      "Number of digits in  754539  :-  6\n"
     ]
    }
   ],
   "source": [
    "# WAP to find the number of digit in 784539.\n",
    "num1 = num2 = 754539\n",
    "nod = 0\n",
    "while num2>=1:\n",
    "    num2/=10\n",
    "    nod+=1\n",
    "print(\"Number of digits in \", num1, \" :- \",nod)"
   ]
  },
  {
   "cell_type": "code",
   "execution_count": 60,
   "id": "657ae6ca",
   "metadata": {},
   "outputs": [
    {
     "name": "stdout",
     "output_type": "stream",
     "text": [
      "Number of digits in  784539  :-  6\n"
     ]
    }
   ],
   "source": [
    "# WAP to find the number of digit in 784539 using for loop\n",
    "num1 = 784539\n",
    "str1 = str(num1)\n",
    "cnt = 0\n",
    "for i in str1:\n",
    "    cnt+=1\n",
    "print(\"Number of digits in \", num1, \" :- \",cnt)"
   ]
  },
  {
   "cell_type": "code",
   "execution_count": null,
   "id": "9cf592ba",
   "metadata": {},
   "outputs": [],
   "source": []
  }
 ],
 "metadata": {
  "kernelspec": {
   "display_name": "Python 3 (ipykernel)",
   "language": "python",
   "name": "python3"
  },
  "language_info": {
   "codemirror_mode": {
    "name": "ipython",
    "version": 3
   },
   "file_extension": ".py",
   "mimetype": "text/x-python",
   "name": "python",
   "nbconvert_exporter": "python",
   "pygments_lexer": "ipython3",
   "version": "3.9.12"
  }
 },
 "nbformat": 4,
 "nbformat_minor": 5
}
