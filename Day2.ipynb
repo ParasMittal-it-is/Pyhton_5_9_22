{
 "cells": [
  {
   "cell_type": "code",
   "execution_count": 1,
   "id": "8af5b428",
   "metadata": {},
   "outputs": [
    {
     "name": "stdout",
     "output_type": "stream",
     "text": [
      "75.0\n"
     ]
    }
   ],
   "source": [
    "#basic one\n",
    "#wap to find the percentage of a child who score 30 & 45 numbers in \n",
    "# a particular subject out of 50.\n",
    "a=30\n",
    "b=45\n",
    "c=100\n",
    "\n",
    "per=((a+b)*100)/c\n",
    "print(per)"
   ]
  },
  {
   "cell_type": "markdown",
   "id": "5194d891",
   "metadata": {},
   "source": [
    "\n",
    "# Typecasting\n",
    "\n"
   ]
  },
  {
   "cell_type": "code",
   "execution_count": 13,
   "id": "724dde62",
   "metadata": {},
   "outputs": [
    {
     "name": "stdout",
     "output_type": "stream",
     "text": [
      "Enter first number : 5\n",
      "Enter second number : 55\n",
      "60\n"
     ]
    }
   ],
   "source": [
    "a = int(input(\"Enter first number : \"))\n",
    "b = int(input(\"Enter second number : \"))\n",
    "c=a+b\n",
    "print(c)"
   ]
  },
  {
   "cell_type": "markdown",
   "id": "a720ea09",
   "metadata": {},
   "source": [
    "# Conditions"
   ]
  },
  {
   "cell_type": "code",
   "execution_count": 15,
   "id": "b026217f",
   "metadata": {},
   "outputs": [
    {
     "name": "stdout",
     "output_type": "stream",
     "text": [
      "Enter any number to find its odd or even :- 2\n",
      "Even Number\n"
     ]
    }
   ],
   "source": [
    "\n",
    "#wap to print odd and even number?\n",
    "\n",
    "a=int(input(\"Enter any number to find its odd or even :- \"))\n",
    "if a%2==0:\n",
    "    print(\"Even Number\")\n",
    "else:\n",
    "    print(\"Odd Number\")\n"
   ]
  },
  {
   "cell_type": "code",
   "execution_count": 12,
   "id": "f7538a8d",
   "metadata": {},
   "outputs": [
    {
     "name": "stdout",
     "output_type": "stream",
     "text": [
      "ENTER any number :- 5\n",
      "Positive\n"
     ]
    }
   ],
   "source": [
    "# Wap to determine either number is positive , negative or 0.\n",
    "num = int(input(\"ENTER any number :- \"))\n",
    "if num>0:\n",
    "    print(\"Positive\")\n",
    "elif num<0:\n",
    "    print(\"Negative\")\n",
    "else:\n",
    "    print(\"0\")"
   ]
  },
  {
   "cell_type": "code",
   "execution_count": 11,
   "id": "e2cca7dc",
   "metadata": {},
   "outputs": [
    {
     "name": "stdout",
     "output_type": "stream",
     "text": [
      "Enter the number of holidays : 5\n",
      "33000\n"
     ]
    }
   ],
   "source": [
    "# #Determine the salary of a emp . If he take holiday more than 5 the \n",
    "# salary will be deducted by 3% or if there is no holiday then there is \n",
    "# a bonus of 5% given to employee.Find the total salary?\n",
    "\n",
    "sal=33000\n",
    "\n",
    "hol = int(input(\"Enter the number of holidays : \"))\n",
    "\n",
    "if hol>5:\n",
    "    sal=sal-((sal*3)/100)\n",
    "elif hol==0:\n",
    "    sal=sal+((sal*5)/100)\n",
    "print(sal)\n"
   ]
  },
  {
   "cell_type": "code",
   "execution_count": 17,
   "id": "60d21e58",
   "metadata": {},
   "outputs": [
    {
     "name": "stdout",
     "output_type": "stream",
     "text": [
      "3.0\n"
     ]
    }
   ],
   "source": [
    "# WAP to find average of first Natural Numbers\n",
    "sum=1+2+3+4+5\n",
    "avg=sum/5\n",
    "print(avg)"
   ]
  },
  {
   "cell_type": "code",
   "execution_count": 19,
   "id": "9cf02103",
   "metadata": {},
   "outputs": [
    {
     "name": "stdout",
     "output_type": "stream",
     "text": [
      "56.0\n"
     ]
    }
   ],
   "source": [
    "# WAP to find the percentage of a student whose marks are E=56, H=89, M=23 ,  Each out of 100\n",
    "\n",
    "E=56\n",
    "H=89\n",
    "M=23\n",
    "\n",
    "tot=300\n",
    "obt = E+H+M\n",
    "perc= (obt*100)/tot\n",
    "\n",
    "print(perc)\n",
    "\n"
   ]
  },
  {
   "cell_type": "code",
   "execution_count": 22,
   "id": "87292d29",
   "metadata": {},
   "outputs": [
    {
     "name": "stdout",
     "output_type": "stream",
     "text": [
      "Yes\n"
     ]
    }
   ],
   "source": [
    "# WAP to find if the number is divisible by both 2 AND 5, But not by 3\n",
    "num=10\n",
    "if num%2==0 and num%5==0 and num%3!=0:\n",
    "    print(\"Yes\")\n",
    "else:\n",
    "    print(\"NO\")"
   ]
  },
  {
   "cell_type": "code",
   "execution_count": 24,
   "id": "caf749e7",
   "metadata": {},
   "outputs": [],
   "source": [
    "if 0:\n",
    "    print(\"True\")"
   ]
  },
  {
   "cell_type": "code",
   "execution_count": null,
   "id": "3b9a05d5",
   "metadata": {},
   "outputs": [],
   "source": []
  }
 ],
 "metadata": {
  "kernelspec": {
   "display_name": "Python 3 (ipykernel)",
   "language": "python",
   "name": "python3"
  },
  "language_info": {
   "codemirror_mode": {
    "name": "ipython",
    "version": 3
   },
   "file_extension": ".py",
   "mimetype": "text/x-python",
   "name": "python",
   "nbconvert_exporter": "python",
   "pygments_lexer": "ipython3",
   "version": "3.9.12"
  }
 },
 "nbformat": 4,
 "nbformat_minor": 5
}
