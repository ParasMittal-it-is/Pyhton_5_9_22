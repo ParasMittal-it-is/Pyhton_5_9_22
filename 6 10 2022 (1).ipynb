{
 "cells": [
  {
   "cell_type": "code",
   "execution_count": 10,
   "id": "8a0a9b85",
   "metadata": {},
   "outputs": [
    {
     "name": "stdout",
     "output_type": "stream",
     "text": [
      "Enter marks of 5 subjects :- 75 85 75 85 75\n",
      "79.0\n"
     ]
    }
   ],
   "source": [
    "# Wap to calculate the average of 5 subjects??\n",
    "\n",
    "def per(x):\n",
    "    sum = 0\n",
    "    for i in x:\n",
    "        sum+=i\n",
    "    return sum/5\n",
    "    \n",
    "x = list(map(int, input(\"Enter marks of 5 subjects :- \").split()))  \n",
    "print(per(x))\n"
   ]
  },
  {
   "cell_type": "code",
   "execution_count": 11,
   "id": "40f4080d",
   "metadata": {},
   "outputs": [],
   "source": [
    "# quantity is having the value of 80 and if the value exceed by\n",
    "# avg value then also calculate the total price of whole quantity\n",
    "# avg value => 350\n",
    "\n"
   ]
  },
  {
   "cell_type": "code",
   "execution_count": 12,
   "id": "12c236e0",
   "metadata": {},
   "outputs": [
    {
     "name": "stdout",
     "output_type": "stream",
     "text": [
      "Area and circumference of circle :-  (78.53981633974483, 31.41592653589793)\n"
     ]
    }
   ],
   "source": [
    "# Wap to find the area and circumference of circle and also try to find\n",
    "# if this circle is going to be square or not?\n",
    "\n",
    "import math\n",
    "\n",
    "def areacir(r):\n",
    "    return math.pi*r*r, 2*math.pi*r\n",
    "\n",
    "print(\"Area and circumference of circle :- \", areacir(5))\n"
   ]
  },
  {
   "cell_type": "code",
   "execution_count": null,
   "id": "7583b043",
   "metadata": {},
   "outputs": [],
   "source": []
  }
 ],
 "metadata": {
  "kernelspec": {
   "display_name": "Python 3 (ipykernel)",
   "language": "python",
   "name": "python3"
  },
  "language_info": {
   "codemirror_mode": {
    "name": "ipython",
    "version": 3
   },
   "file_extension": ".py",
   "mimetype": "text/x-python",
   "name": "python",
   "nbconvert_exporter": "python",
   "pygments_lexer": "ipython3",
   "version": "3.9.12"
  }
 },
 "nbformat": 4,
 "nbformat_minor": 5
}
