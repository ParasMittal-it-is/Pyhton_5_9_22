{
 "cells": [
  {
   "cell_type": "markdown",
   "id": "4911bb79",
   "metadata": {},
   "source": [
    "# Lists are mutable, elements in the list can be changed\n"
   ]
  },
  {
   "cell_type": "code",
   "execution_count": 2,
   "id": "23bdb42a",
   "metadata": {},
   "outputs": [],
   "source": [
    "Lis = [1, 25, 36, 45, 'python']\n"
   ]
  },
  {
   "cell_type": "code",
   "execution_count": 3,
   "id": "4a532200",
   "metadata": {},
   "outputs": [
    {
     "data": {
      "text/plain": [
       "[1, 25, 36, 45, 'python']"
      ]
     },
     "execution_count": 3,
     "metadata": {},
     "output_type": "execute_result"
    }
   ],
   "source": [
    "Lis\n"
   ]
  },
  {
   "cell_type": "code",
   "execution_count": 4,
   "id": "30bd28c4",
   "metadata": {},
   "outputs": [],
   "source": [
    "Lis.reverse()"
   ]
  },
  {
   "cell_type": "code",
   "execution_count": 5,
   "id": "fd90028c",
   "metadata": {},
   "outputs": [
    {
     "data": {
      "text/plain": [
       "['python', 45, 36, 25, 1]"
      ]
     },
     "execution_count": 5,
     "metadata": {},
     "output_type": "execute_result"
    }
   ],
   "source": [
    "Lis\n"
   ]
  },
  {
   "cell_type": "code",
   "execution_count": 7,
   "id": "4654f778",
   "metadata": {},
   "outputs": [],
   "source": [
    "Lis.append(255)"
   ]
  },
  {
   "cell_type": "code",
   "execution_count": 8,
   "id": "4ae2bd6e",
   "metadata": {},
   "outputs": [
    {
     "data": {
      "text/plain": [
       "['python', 45, 36, 25, 1, 255]"
      ]
     },
     "execution_count": 8,
     "metadata": {},
     "output_type": "execute_result"
    }
   ],
   "source": [
    "Lis\n"
   ]
  },
  {
   "cell_type": "code",
   "execution_count": 9,
   "id": "e648b681",
   "metadata": {},
   "outputs": [],
   "source": [
    "Lis.insert(2, 46)"
   ]
  },
  {
   "cell_type": "code",
   "execution_count": 10,
   "id": "4dbb37ba",
   "metadata": {},
   "outputs": [
    {
     "data": {
      "text/plain": [
       "['python', 45, 46, 36, 25, 1, 255]"
      ]
     },
     "execution_count": 10,
     "metadata": {},
     "output_type": "execute_result"
    }
   ],
   "source": [
    "Lis"
   ]
  },
  {
   "cell_type": "code",
   "execution_count": 15,
   "id": "667e35d6",
   "metadata": {},
   "outputs": [],
   "source": [
    "Lis.insert(-25, 25)"
   ]
  },
  {
   "cell_type": "code",
   "execution_count": 16,
   "id": "fdd1c2c3",
   "metadata": {},
   "outputs": [
    {
     "data": {
      "text/plain": [
       "[25, 'python', 45, 46, 36, 25, 1, 255, 25]"
      ]
     },
     "execution_count": 16,
     "metadata": {},
     "output_type": "execute_result"
    }
   ],
   "source": [
    "Lis\n"
   ]
  },
  {
   "cell_type": "code",
   "execution_count": 3,
   "id": "4f1e80ca",
   "metadata": {},
   "outputs": [],
   "source": [
    "Lis.remove('python')"
   ]
  },
  {
   "cell_type": "code",
   "execution_count": 19,
   "id": "4c94d506",
   "metadata": {},
   "outputs": [
    {
     "data": {
      "text/plain": [
       "[25, 45, 46, 36, 25, 1, 255, 25]"
      ]
     },
     "execution_count": 19,
     "metadata": {},
     "output_type": "execute_result"
    }
   ],
   "source": [
    "Lis"
   ]
  },
  {
   "cell_type": "code",
   "execution_count": 20,
   "id": "2af68ab3",
   "metadata": {},
   "outputs": [
    {
     "data": {
      "text/plain": [
       "25"
      ]
     },
     "execution_count": 20,
     "metadata": {},
     "output_type": "execute_result"
    }
   ],
   "source": [
    "Lis.pop()"
   ]
  },
  {
   "cell_type": "code",
   "execution_count": 21,
   "id": "3083db05",
   "metadata": {},
   "outputs": [
    {
     "data": {
      "text/plain": [
       "[25, 45, 46, 36, 25, 1, 255]"
      ]
     },
     "execution_count": 21,
     "metadata": {},
     "output_type": "execute_result"
    }
   ],
   "source": [
    "Lis"
   ]
  },
  {
   "cell_type": "markdown",
   "id": "9968758d",
   "metadata": {},
   "source": [
    "\n",
    "# sort function for reverse\n",
    "# sort() cannot sort str and int in the list like simply they are not comparable"
   ]
  },
  {
   "cell_type": "code",
   "execution_count": 5,
   "id": "132e1612",
   "metadata": {},
   "outputs": [],
   "source": [
    "Lis.sort(reverse = True) "
   ]
  },
  {
   "cell_type": "code",
   "execution_count": 6,
   "id": "abd97d24",
   "metadata": {},
   "outputs": [
    {
     "data": {
      "text/plain": [
       "[45, 36, 25, 1]"
      ]
     },
     "execution_count": 6,
     "metadata": {},
     "output_type": "execute_result"
    }
   ],
   "source": [
    "Lis"
   ]
  },
  {
   "cell_type": "code",
   "execution_count": null,
   "id": "6f9b63d4",
   "metadata": {},
   "outputs": [],
   "source": []
  }
 ],
 "metadata": {
  "kernelspec": {
   "display_name": "Python 3 (ipykernel)",
   "language": "python",
   "name": "python3"
  },
  "language_info": {
   "codemirror_mode": {
    "name": "ipython",
    "version": 3
   },
   "file_extension": ".py",
   "mimetype": "text/x-python",
   "name": "python",
   "nbconvert_exporter": "python",
   "pygments_lexer": "ipython3",
   "version": "3.9.12"
  }
 },
 "nbformat": 4,
 "nbformat_minor": 5
}
