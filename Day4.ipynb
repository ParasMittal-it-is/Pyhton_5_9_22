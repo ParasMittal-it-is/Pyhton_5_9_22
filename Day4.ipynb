{
 "cells": [
  {
   "cell_type": "code",
   "execution_count": 1,
   "id": "072e66ef",
   "metadata": {},
   "outputs": [
    {
     "name": "stdout",
     "output_type": "stream",
     "text": [
      "-10\n",
      "-9\n",
      "-8\n",
      "-7\n",
      "-6\n",
      "-5\n",
      "-4\n",
      "-3\n",
      "-2\n",
      "-1\n",
      "0\n",
      "1\n",
      "2\n",
      "3\n",
      "4\n",
      "5\n",
      "6\n",
      "7\n",
      "8\n",
      "9\n",
      "10\n"
     ]
    }
   ],
   "source": [
    "# WAP to print count from -10 to 10 using for loop\n",
    "for i in range(-10, 11, 1):\n",
    "    print(i)"
   ]
  },
  {
   "cell_type": "code",
   "execution_count": 3,
   "id": "bc49f47a",
   "metadata": {},
   "outputs": [
    {
     "name": "stdout",
     "output_type": "stream",
     "text": [
      "10\n",
      "9\n",
      "8\n",
      "7\n",
      "6\n",
      "5\n",
      "4\n",
      "3\n",
      "2\n",
      "1\n",
      "0\n",
      "-1\n",
      "-2\n",
      "-3\n",
      "-4\n",
      "-5\n",
      "-6\n",
      "-7\n",
      "-8\n",
      "-9\n",
      "-10\n"
     ]
    }
   ],
   "source": [
    "# WAP to print count from 10 to -10 using for loop\n",
    "for i in range(10, -11, -1):\n",
    "    print(i)"
   ]
  },
  {
   "cell_type": "code",
   "execution_count": 5,
   "id": "92c768b9",
   "metadata": {},
   "outputs": [
    {
     "name": "stdout",
     "output_type": "stream",
     "text": [
      "1\n",
      "3\n",
      "5\n",
      "7\n",
      "9\n",
      "11\n",
      "13\n",
      "15\n",
      "17\n",
      "19\n",
      "21\n",
      "23\n",
      "25\n",
      "27\n",
      "29\n",
      "31\n",
      "33\n",
      "35\n",
      "37\n",
      "39\n",
      "41\n",
      "43\n",
      "45\n",
      "47\n",
      "49\n",
      "51\n",
      "53\n",
      "55\n",
      "57\n",
      "59\n",
      "61\n",
      "63\n",
      "65\n",
      "67\n",
      "69\n",
      "71\n",
      "73\n",
      "75\n",
      "77\n",
      "79\n",
      "81\n",
      "83\n",
      "85\n",
      "87\n",
      "89\n",
      "91\n",
      "93\n",
      "95\n",
      "97\n",
      "99\n"
     ]
    }
   ],
   "source": [
    "# WAP to print count from 1 to 100 by skipping 1 number\n",
    "for i in range(1, 101, 2):\n",
    "    print(i)"
   ]
  },
  {
   "cell_type": "code",
   "execution_count": 11,
   "id": "e8f1ef0e",
   "metadata": {},
   "outputs": [
    {
     "name": "stdout",
     "output_type": "stream",
     "text": [
      "ODD -:>  1\n",
      "EVEN -:>  2\n",
      "ODD -:>  3\n",
      "EVEN -:>  4\n",
      "ODD -:>  5\n",
      "EVEN -:>  6\n",
      "ODD -:>  7\n",
      "EVEN -:>  8\n",
      "ODD -:>  9\n",
      "EVEN -:>  10\n",
      "ODD -:>  11\n",
      "EVEN -:>  12\n",
      "ODD -:>  13\n",
      "EVEN -:>  14\n",
      "ODD -:>  15\n",
      "EVEN -:>  16\n",
      "ODD -:>  17\n",
      "EVEN -:>  18\n",
      "ODD -:>  19\n",
      "EVEN -:>  20\n",
      "ODD -:>  21\n",
      "EVEN -:>  22\n",
      "ODD -:>  23\n",
      "EVEN -:>  24\n",
      "ODD -:>  25\n",
      "EVEN -:>  26\n",
      "ODD -:>  27\n",
      "EVEN -:>  28\n",
      "ODD -:>  29\n",
      "EVEN -:>  30\n",
      "ODD -:>  31\n",
      "EVEN -:>  32\n",
      "ODD -:>  33\n",
      "EVEN -:>  34\n",
      "ODD -:>  35\n",
      "EVEN -:>  36\n",
      "ODD -:>  37\n",
      "EVEN -:>  38\n",
      "ODD -:>  39\n",
      "EVEN -:>  40\n",
      "ODD -:>  41\n",
      "EVEN -:>  42\n",
      "ODD -:>  43\n",
      "EVEN -:>  44\n",
      "ODD -:>  45\n",
      "EVEN -:>  46\n",
      "ODD -:>  47\n",
      "EVEN -:>  48\n",
      "ODD -:>  49\n",
      "EVEN -:>  50\n",
      "ODD -:>  51\n",
      "EVEN -:>  52\n",
      "ODD -:>  53\n",
      "EVEN -:>  54\n",
      "ODD -:>  55\n",
      "EVEN -:>  56\n",
      "ODD -:>  57\n",
      "EVEN -:>  58\n",
      "ODD -:>  59\n",
      "EVEN -:>  60\n",
      "ODD -:>  61\n",
      "EVEN -:>  62\n",
      "ODD -:>  63\n",
      "EVEN -:>  64\n",
      "ODD -:>  65\n",
      "EVEN -:>  66\n",
      "ODD -:>  67\n",
      "EVEN -:>  68\n",
      "ODD -:>  69\n",
      "EVEN -:>  70\n",
      "ODD -:>  71\n",
      "EVEN -:>  72\n",
      "ODD -:>  73\n",
      "EVEN -:>  74\n",
      "ODD -:>  75\n",
      "EVEN -:>  76\n",
      "ODD -:>  77\n",
      "EVEN -:>  78\n",
      "ODD -:>  79\n",
      "EVEN -:>  80\n",
      "ODD -:>  81\n",
      "EVEN -:>  82\n",
      "ODD -:>  83\n",
      "EVEN -:>  84\n",
      "ODD -:>  85\n",
      "EVEN -:>  86\n",
      "ODD -:>  87\n",
      "EVEN -:>  88\n",
      "ODD -:>  89\n",
      "EVEN -:>  90\n",
      "ODD -:>  91\n",
      "EVEN -:>  92\n",
      "ODD -:>  93\n",
      "EVEN -:>  94\n",
      "ODD -:>  95\n",
      "EVEN -:>  96\n",
      "ODD -:>  97\n",
      "EVEN -:>  98\n",
      "ODD -:>  99\n",
      "EVEN -:>  100\n",
      "\n",
      "Total number of even numbers is :-  50\n",
      "Total number of odd numbers is :-  50\n"
     ]
    }
   ],
   "source": [
    "# WAP to show even and odd number from 1 to 100 and count how much are even and how much are odd\n",
    "c_even = 0\n",
    "c_odd = 0\n",
    "for i in range(1, 101):\n",
    "    if i%2==0:\n",
    "        print(\"EVEN -:> \", i)\n",
    "        c_even+=1\n",
    "    else:\n",
    "        print(\"ODD -:> \", i)\n",
    "        c_odd+=1\n",
    "print(\"\\nTotal number of even numbers is :- \", c_even)\n",
    "print(\"Total number of odd numbers is :- \", c_odd)"
   ]
  },
  {
   "cell_type": "code",
   "execution_count": 14,
   "id": "acf033c8",
   "metadata": {},
   "outputs": [
    {
     "name": "stdout",
     "output_type": "stream",
     "text": [
      "Enter any number :- 25\n",
      "25\n",
      "50\n",
      "75\n",
      "100\n",
      "125\n",
      "150\n",
      "175\n",
      "200\n",
      "225\n",
      "250\n"
     ]
    }
   ],
   "source": [
    "# WAP to print the table of given number\n",
    "num = int(input(\"Enter any number :- \"))\n",
    "for i in range(1,11):\n",
    "    print(num*i)"
   ]
  },
  {
   "cell_type": "code",
   "execution_count": 22,
   "id": "df932284",
   "metadata": {},
   "outputs": [
    {
     "name": "stdout",
     "output_type": "stream",
     "text": [
      "R\n",
      "RE\n",
      "REV\n",
      "REVE\n",
      "REVER\n",
      "REVERS\n",
      "REVERSE\n",
      "REVERSE\n"
     ]
    }
   ],
   "source": [
    "# WAP to reverse the string\n",
    "str1=\"REVERSE\"\n",
    "str2=\"\"\n",
    "for i in str1:\n",
    "    str2+=i\n",
    "    print(str2)\n",
    "print(str2)"
   ]
  },
  {
   "cell_type": "code",
   "execution_count": 33,
   "id": "7e554c88",
   "metadata": {},
   "outputs": [
    {
     "name": "stdout",
     "output_type": "stream",
     "text": [
      "r\n",
      "er\n",
      "ver\n",
      "ever\n",
      "rever\n",
      "srever\n",
      "esrever\n",
      "esrever\n",
      "reverse\n"
     ]
    }
   ],
   "source": [
    "# WAP to check if string is palindrome\n",
    "str1 = \"reverse\"\n",
    "str2 = \"\"\n",
    "str3 = \"\"\n",
    "for i in str1:\n",
    "    str2=i+str2 # Point to be noted \n",
    "    str3=str3+i # Point to be noted\n",
    "    print(str2)\n",
    "print(str2)\n",
    "print(str3)\n"
   ]
  },
  {
   "cell_type": "code",
   "execution_count": 1,
   "id": "f9a7fb93",
   "metadata": {},
   "outputs": [
    {
     "name": "stdout",
     "output_type": "stream",
     "text": [
      "330\n"
     ]
    }
   ],
   "source": [
    "# wap to find the number of digits in 784539.\n",
    "num = 784539\n",
    "count = 0\n",
    "\n",
    "# for i in range(6):\n",
    "#     num=num/10\n",
    "#     count+=1\n",
    "# print(count)\n",
    "\n",
    "while num>0:\n",
    "    num=num/10\n",
    "    count+=1\n",
    "print(count)"
   ]
  },
  {
   "cell_type": "code",
   "execution_count": 5,
   "id": "2a567ba8",
   "metadata": {},
   "outputs": [
    {
     "name": "stdout",
     "output_type": "stream",
     "text": [
      "6\n"
     ]
    }
   ],
   "source": [
    "num = 784539\n",
    "count = 0\n",
    "while num>1:\n",
    "    num=num/10\n",
    "    count+=1\n",
    "print(count)"
   ]
  },
  {
   "cell_type": "code",
   "execution_count": null,
   "id": "478afbbd",
   "metadata": {},
   "outputs": [],
   "source": []
  },
  {
   "cell_type": "code",
   "execution_count": null,
   "id": "95d1460e",
   "metadata": {},
   "outputs": [],
   "source": []
  }
 ],
 "metadata": {
  "kernelspec": {
   "display_name": "Python 3 (ipykernel)",
   "language": "python",
   "name": "python3"
  },
  "language_info": {
   "codemirror_mode": {
    "name": "ipython",
    "version": 3
   },
   "file_extension": ".py",
   "mimetype": "text/x-python",
   "name": "python",
   "nbconvert_exporter": "python",
   "pygments_lexer": "ipython3",
   "version": "3.9.12"
  }
 },
 "nbformat": 4,
 "nbformat_minor": 5
}
