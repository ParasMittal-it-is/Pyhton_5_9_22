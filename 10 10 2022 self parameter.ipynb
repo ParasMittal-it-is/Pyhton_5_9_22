{
 "cells": [
  {
   "cell_type": "markdown",
   "id": "182f384f",
   "metadata": {},
   "source": [
    "# Creating class"
   ]
  },
  {
   "cell_type": "code",
   "execution_count": 2,
   "id": "f0df1162",
   "metadata": {},
   "outputs": [
    {
     "name": "stdout",
     "output_type": "stream",
     "text": [
      "Namaskaram\n"
     ]
    }
   ],
   "source": [
    "class std:\n",
    "    greet = \"Namaste Ji\"\n",
    "    print(\"Namaskaram\")"
   ]
  },
  {
   "cell_type": "code",
   "execution_count": 6,
   "id": "c93639c4",
   "metadata": {},
   "outputs": [
    {
     "data": {
      "text/plain": [
       "<__main__.std at 0x28ea422cd90>"
      ]
     },
     "execution_count": 6,
     "metadata": {},
     "output_type": "execute_result"
    }
   ],
   "source": [
    "std() # Object creation without any name, address of the object will be shown here\n",
    "# Every time the addresss will be different, because object is different"
   ]
  },
  {
   "cell_type": "code",
   "execution_count": 7,
   "id": "b9842aaa",
   "metadata": {},
   "outputs": [],
   "source": [
    "s = std() # Correctly object creation"
   ]
  },
  {
   "cell_type": "code",
   "execution_count": 8,
   "id": "4cedfb59",
   "metadata": {},
   "outputs": [
    {
     "data": {
      "text/plain": [
       "<__main__.std at 0x28ea4225070>"
      ]
     },
     "execution_count": 8,
     "metadata": {},
     "output_type": "execute_result"
    }
   ],
   "source": [
    "s"
   ]
  },
  {
   "cell_type": "code",
   "execution_count": 9,
   "id": "3c63a482",
   "metadata": {},
   "outputs": [
    {
     "data": {
      "text/plain": [
       "'Namaste Ji'"
      ]
     },
     "execution_count": 9,
     "metadata": {},
     "output_type": "execute_result"
    }
   ],
   "source": [
    "s.greet"
   ]
  },
  {
   "cell_type": "code",
   "execution_count": 11,
   "id": "3dcf34b1",
   "metadata": {},
   "outputs": [
    {
     "name": "stdout",
     "output_type": "stream",
     "text": [
      "Paras Mittal\n"
     ]
    }
   ],
   "source": [
    "# create a class of your first name and last name\n",
    "class name:\n",
    "    f = \"Paras\"\n",
    "    l = \"Mittal\"\n",
    "n = name()\n",
    "print(n.f, n.l)"
   ]
  },
  {
   "cell_type": "code",
   "execution_count": 21,
   "id": "cb8cad3d",
   "metadata": {},
   "outputs": [
    {
     "data": {
      "text/plain": [
       "55"
      ]
     },
     "execution_count": 21,
     "metadata": {},
     "output_type": "execute_result"
    }
   ],
   "source": [
    "# Create function of adding two numbers using OOPS\n",
    "class add:\n",
    "    def fun(self, a, b): # 'self' parameter is the reference to instance of the class, and is used to access variables that belongs to the class.\n",
    "        c = a+b          # By using the “self” we can access the attributes and methods of the class in python.\n",
    "        return c\n",
    "a1 = add()\n",
    "a1.fun(25, 30)"
   ]
  },
  {
   "cell_type": "code",
   "execution_count": null,
   "id": "c98401ca",
   "metadata": {},
   "outputs": [],
   "source": []
  },
  {
   "cell_type": "code",
   "execution_count": null,
   "id": "e2b5a530",
   "metadata": {},
   "outputs": [],
   "source": []
  }
 ],
 "metadata": {
  "kernelspec": {
   "display_name": "Python 3 (ipykernel)",
   "language": "python",
   "name": "python3"
  },
  "language_info": {
   "codemirror_mode": {
    "name": "ipython",
    "version": 3
   },
   "file_extension": ".py",
   "mimetype": "text/x-python",
   "name": "python",
   "nbconvert_exporter": "python",
   "pygments_lexer": "ipython3",
   "version": "3.9.12"
  }
 },
 "nbformat": 4,
 "nbformat_minor": 5
}
