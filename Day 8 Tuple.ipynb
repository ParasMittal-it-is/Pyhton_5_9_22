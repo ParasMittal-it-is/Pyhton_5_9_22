{
 "cells": [
  {
   "cell_type": "code",
   "execution_count": 1,
   "id": "d84e01f0",
   "metadata": {},
   "outputs": [
    {
     "name": "stdout",
     "output_type": "stream",
     "text": [
      "(1, 2, 3, 4)\n",
      "<class 'tuple'>\n"
     ]
    }
   ],
   "source": [
    "# 1.Write a Python program to create a tuple.\n",
    "\n",
    "T1 = (1, 2 , 3, 4)\n",
    "print(T1)\n",
    "print(type(T1))"
   ]
  },
  {
   "cell_type": "code",
   "execution_count": 3,
   "id": "9c1b8173",
   "metadata": {},
   "outputs": [
    {
     "name": "stdout",
     "output_type": "stream",
     "text": [
      "(1, 'a', (1+1j), 2.22)\n",
      "<class 'tuple'>\n"
     ]
    }
   ],
   "source": [
    "# 2.Write a Python program to create a tuple with different data types.\n",
    "\n",
    "T2 = (1, 'a', 1+1j, 2.22)\n",
    "print(T2)\n",
    "print(type(T2))"
   ]
  },
  {
   "cell_type": "code",
   "execution_count": 5,
   "id": "b3bce5a7",
   "metadata": {},
   "outputs": [
    {
     "name": "stdout",
     "output_type": "stream",
     "text": [
      "1\n",
      "<class 'tuple'>\n"
     ]
    }
   ],
   "source": [
    "# 3.Write a Python program to create a tuple with numbers and print one item.\n",
    "\n",
    "T3 = (1,2,3,4,44,4,4)\n",
    "print(T3[0])\n",
    "print(type(T3))"
   ]
  },
  {
   "cell_type": "markdown",
   "id": "9e5368d0",
   "metadata": {},
   "source": [
    "# Tuple is immutable, But we can add data in python in tuple like this :-"
   ]
  },
  {
   "cell_type": "code",
   "execution_count": 9,
   "id": "676abcb4",
   "metadata": {
    "scrolled": true
   },
   "outputs": [
    {
     "name": "stdout",
     "output_type": "stream",
     "text": [
      "(1, 2, 3, 4, 90.989, 90.989)\n",
      "<class 'tuple'>\n"
     ]
    }
   ],
   "source": [
    "# 4.Write a Python program to add an item in a tuple.\n",
    "L1 = list(T1)\n",
    "L1.append(90.989)\n",
    "T1 = tuple(L1)\n",
    "print(T1)\n",
    "print(type(T1))"
   ]
  },
  {
   "cell_type": "code",
   "execution_count": 10,
   "id": "9fc8a62c",
   "metadata": {},
   "outputs": [
    {
     "name": "stdout",
     "output_type": "stream",
     "text": [
      "(1, 2, 3, 4, 90.989, 90.989)\n",
      "<class 'str'>\n"
     ]
    }
   ],
   "source": [
    "# 5.Write a Python program to convert a tuple to a string.\n",
    "\n",
    "string = str(T1)\n",
    "print(string)\n",
    "print(type(string))"
   ]
  },
  {
   "cell_type": "code",
   "execution_count": 14,
   "id": "5ffeca60",
   "metadata": {},
   "outputs": [
    {
     "name": "stdout",
     "output_type": "stream",
     "text": [
      "[1, 2, 3, 4, 90.989, 90.989]\n",
      "<class 'list'>\n",
      "(1, 2, 3, 4, 90.989, 90.989)\n",
      "<class 'tuple'>\n"
     ]
    }
   ],
   "source": [
    "# 6.Write a Python program to convert a list to a tuple.\n",
    "print(L1)\n",
    "print(type(L1))\n",
    "\n",
    "# LOGIC\n",
    "T4 = tuple(L1)\n",
    "\n",
    "print(T4)\n",
    "print(type(T4))"
   ]
  },
  {
   "cell_type": "code",
   "execution_count": 16,
   "id": "dc3b810c",
   "metadata": {},
   "outputs": [
    {
     "name": "stdout",
     "output_type": "stream",
     "text": [
      "(1, 2, 3, 4, 90.989, 90.989)\n",
      "<class 'tuple'>\n",
      "\n",
      " [1, 2, 3, 4, 90.989, 90.989]\n",
      "<class 'list'>\n",
      "\n",
      " (1, 3, 4, 90.989, 90.989)\n",
      "<class 'tuple'>\n"
     ]
    }
   ],
   "source": [
    "# 7.Write a Python program to remove an item from a tuple.\n",
    "print(T1)\n",
    "print(type(T1))\n",
    "\n",
    "L2 = list(T1)\n",
    "print(\"\\n\", L2)\n",
    "print(type(L2))\n",
    "L2.remove(2)\n",
    "\n",
    "T1 = tuple(L2)\n",
    "print(\"\\n\", T1)\n",
    "print(type(T1))\n"
   ]
  },
  {
   "cell_type": "code",
   "execution_count": 22,
   "id": "241f7d36",
   "metadata": {},
   "outputs": [
    {
     "name": "stdout",
     "output_type": "stream",
     "text": [
      "(1, 3, 4, 90.989, 90.989)\n",
      "<class 'tuple'>\n",
      "\n",
      " (1, 3, 4, 90.989, 90.989)\n",
      "Index of 3 is :-  2\n",
      "<class 'tuple'>\n"
     ]
    }
   ],
   "source": [
    "# 8.Write a Python program to find the index of an item of a tuple.\n",
    "print(T1)\n",
    "print(type(T1))\n",
    "\n",
    "L1 = list(T1)\n",
    "ind = L1.index(4)\n",
    "\n",
    "T1 = tuple(L1)\n",
    "print(\"\\n\",T1)\n",
    "print(\"Index of 3 is :- \", ind)\n",
    "print(type(T1))"
   ]
  },
  {
   "cell_type": "code",
   "execution_count": 23,
   "id": "7460fb9c",
   "metadata": {},
   "outputs": [
    {
     "name": "stdout",
     "output_type": "stream",
     "text": [
      "Before reversing of tuple :-  (1, 3, 4, 90.989, 90.989)\n",
      "<class 'tuple'>\n",
      "\n",
      "After reversing of tuple :-  (90.989, 90.989, 4, 3, 1)\n",
      "<class 'tuple'>\n"
     ]
    }
   ],
   "source": [
    "# 9.Write a Python program to reverse a tuple.\n",
    "print(\"Before reversing of tuple :- \", T1)\n",
    "print(type(T1))\n",
    "\n",
    "L1 = list(T1)\n",
    "L1.reverse()\n",
    "T1 = tuple(L1)\n",
    "\n",
    "print(\"\\nAfter reversing of tuple :- \", T1)\n",
    "print(type(T1))\n"
   ]
  },
  {
   "cell_type": "code",
   "execution_count": 29,
   "id": "1438c291",
   "metadata": {},
   "outputs": [
    {
     "name": "stdout",
     "output_type": "stream",
     "text": [
      "Tuple is :-  (4, 3, 2, 2, -1, 18)\n",
      "<class 'tuple'> \n",
      "Product of all numbers of tuple :-  -864\n"
     ]
    }
   ],
   "source": [
    "# 10.Write a Python program calculate the product, by multiplying all the numbers of a given tuple. \n",
    "# Original Tuple : (4, 3, 2, 2, -1, 18)\n",
    "T5 = (4, 3, 2, 2, -1, 18)\n",
    "mul = 1\n",
    "for i in T5:\n",
    "    mul *= i\n",
    "print(\"Tuple is :- \", T5)\n",
    "print(type(T5),\"\\nProduct of all numbers of tuple :- \", mul)"
   ]
  },
  {
   "cell_type": "code",
   "execution_count": 38,
   "id": "d859be6e",
   "metadata": {},
   "outputs": [
    {
     "name": "stdout",
     "output_type": "stream",
     "text": [
      "List is :-  [1, 25, 36, 22, 26, 28, 12, 45]\n",
      "Tuple is :-  (26, 28, 12, 45)\n",
      "After adding tuple to list :-  [1, 25, 36, 22, 26, 28, 12, 45]\n",
      "<class 'list'>\n",
      "\n",
      "Tuple is :-  (26, 28, 12, 45, 1, 25, 36, 22, 26, 28, 12, 45)\n",
      "List is :-  [1, 25, 36, 22, 26, 28, 12, 45]\n",
      "After adding list to tuple :-  (26, 28, 12, 45, 1, 25, 36, 22, 26, 28, 12, 45)\n",
      "<class 'tuple'>\n"
     ]
    }
   ],
   "source": [
    "# 11.Python – Adding Tuple to List and vice – versa.\n",
    "lst = [1, 25, 36, 22]\n",
    "tple = (26, 28, 12, 45)\n",
    "lst1 = list(tple)\n",
    "lst += lst1\n",
    "\n",
    "print(\"List is :- \", lst)\n",
    "print(\"Tuple is :- \", tple)\n",
    "print(\"After adding tuple to list :- \", lst)\n",
    "print(type(lst))\n",
    "\n",
    "tple1 = lst1 + lst \n",
    "tple = tuple(tple1)\n",
    "print(\"\\nTuple is :- \", tple)\n",
    "print(\"List is :- \", lst)\n",
    "print(\"After adding list to tuple :- \", tple)\n",
    "print(type(tple))"
   ]
  },
  {
   "cell_type": "code",
   "execution_count": 57,
   "id": "b39cfdab",
   "metadata": {},
   "outputs": [
    {
     "name": "stdout",
     "output_type": "stream",
     "text": [
      "[(2, 4, 8, 16, 32), (64, 128, 256, 512, 1024), (2048, 4096, 8192, 16384), (16384, 32768, 65536, 131072)]\n",
      "<class 'list'>\n",
      "Enter number(integer) to find tuples which have all elements divisible by that from above list of tuples :- 16384\n",
      "\n",
      "List of tuples which have all elements divided by  16384 :- \n",
      "[(16384, 32768, 65536, 131072)]\n"
     ]
    }
   ],
   "source": [
    "# 12.Python program to find tuples which have all elements divisible by K from a list of tuples.\n",
    "lst1 = [(2, 4, 8, 16, 32), (64, 128, 256, 512, 1024), (2048, 4096, 8192, 16384), (16384, 32768, 65536, 131072)]\n",
    "lst2 = []\n",
    "print(lst1)\n",
    "print(type(lst1))\n",
    "\n",
    "k = int(input(\"Enter number(integer) to find tuples which have all elements divisible by that from above list of tuples :- \"))\n",
    "\n",
    "for i in lst1:\n",
    "    t=0\n",
    "    for j in i:\n",
    "        if j%k!=0:\n",
    "            t=1\n",
    "    if t==0:\n",
    "        lst2.append(i)\n",
    "\n",
    "print(\"\\nList of tuples which have all elements divided by \", k,\":- \" )\n",
    "print(lst2)\n",
    "    "
   ]
  },
  {
   "cell_type": "code",
   "execution_count": 63,
   "id": "cdcf8ad6",
   "metadata": {},
   "outputs": [
    {
     "name": "stdout",
     "output_type": "stream",
     "text": [
      "[25, 25, 25, 25, 25, 25, 25, 25, 25, 25, 25, 25, 25, 25, 25, 25, 25, 52, 52, 52, 52, 52, 52, 45, 45, 45, 45, 45, 45, 45, 45, 45, 45, 45, 45, 45, 45, 52, 52, 52, 52, 52, 52, 95, 95, 95, 95, 95, 95, 95, 95, 75, 75, 75, 75, 75, 75, 75, 75, 455, 455, 455, 455, 455, 455, 455, 455, 52, 52, 52, 52, 52, 52]\n"
     ]
    }
   ],
   "source": [
    "# 13.Python – Removing duplicates from tuple.\n",
    "\n",
    "tpl = (25, 25, 52, 45, 45, 52, 95, 75, 455, 52)\n",
    "lst1 = tuple(tpl)\n",
    "lst2 = [lst1[0]]\n",
    "\n",
    "for i in range(len(lst1)):\n",
    "    for j in range(1, len(lst1)):\n",
    "        if lst1[i] == lst1[j] :\n",
    "            continue\n",
    "        else:\n",
    "            lst2.append(lst1[i])\n",
    "print(lst2)"
   ]
  },
  {
   "cell_type": "code",
   "execution_count": 87,
   "id": "7b16c63a",
   "metadata": {},
   "outputs": [
    {
     "name": "stdout",
     "output_type": "stream",
     "text": [
      "Tuple (Before removing duplicates) :- \n",
      " (25, 25, 52, 45, 45, 52, 95, 75, 455, 52)\n",
      "\n",
      "Tuple (After removing duplicates) :- \n",
      " (25, 45, 95, 75, 455, 52)\n"
     ]
    }
   ],
   "source": [
    "# 13.Python – Removing duplicates from tuple.\n",
    "\n",
    "tpl = (25, 25, 52, 45, 45, 52, 95, 75, 455, 52)\n",
    "lst1 = list(tpl)\n",
    "t1=0\n",
    "t2=0\n",
    "print(\"Tuple (Before removing duplicates) :- \\n\", tpl)\n",
    "for i in lst1:\n",
    "    t1=0\n",
    "    t2=0\n",
    "    for j in lst1:\n",
    "        if i==j:\n",
    "            t1+=1\n",
    "            t2=i\n",
    "    if t1>1:\n",
    "        for k in range(t1-1):\n",
    "            lst1.remove(t2)\n",
    "tpl = tuple(lst1)\n",
    "print(\"\\nTuple (After removing duplicates) :- \\n\", tpl)"
   ]
  }
 ],
 "metadata": {
  "kernelspec": {
   "display_name": "Python 3 (ipykernel)",
   "language": "python",
   "name": "python3"
  },
  "language_info": {
   "codemirror_mode": {
    "name": "ipython",
    "version": 3
   },
   "file_extension": ".py",
   "mimetype": "text/x-python",
   "name": "python",
   "nbconvert_exporter": "python",
   "pygments_lexer": "ipython3",
   "version": "3.9.12"
  }
 },
 "nbformat": 4,
 "nbformat_minor": 5
}
