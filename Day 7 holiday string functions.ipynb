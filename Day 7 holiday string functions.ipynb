{
 "cells": [
  {
   "cell_type": "code",
   "execution_count": 1,
   "id": "0d0896ad",
   "metadata": {},
   "outputs": [],
   "source": [
    "str1 = \"its a string\""
   ]
  },
  {
   "cell_type": "code",
   "execution_count": 2,
   "id": "3f28c57b",
   "metadata": {},
   "outputs": [
    {
     "data": {
      "text/plain": [
       "'its a string'"
      ]
     },
     "execution_count": 2,
     "metadata": {},
     "output_type": "execute_result"
    }
   ],
   "source": [
    "str1"
   ]
  },
  {
   "cell_type": "code",
   "execution_count": 3,
   "id": "1804691f",
   "metadata": {},
   "outputs": [
    {
     "data": {
      "text/plain": [
       "'ITS A STRING'"
      ]
     },
     "execution_count": 3,
     "metadata": {},
     "output_type": "execute_result"
    }
   ],
   "source": [
    "str1.upper()"
   ]
  },
  {
   "cell_type": "code",
   "execution_count": 4,
   "id": "6bf5d6c3",
   "metadata": {},
   "outputs": [
    {
     "data": {
      "text/plain": [
       "'its a string'"
      ]
     },
     "execution_count": 4,
     "metadata": {},
     "output_type": "execute_result"
    }
   ],
   "source": [
    "str1"
   ]
  },
  {
   "cell_type": "code",
   "execution_count": 5,
   "id": "84e6a038",
   "metadata": {},
   "outputs": [],
   "source": [
    "str1 = str1.upper()"
   ]
  },
  {
   "cell_type": "code",
   "execution_count": 6,
   "id": "91a8b163",
   "metadata": {},
   "outputs": [
    {
     "data": {
      "text/plain": [
       "'ITS A STRING'"
      ]
     },
     "execution_count": 6,
     "metadata": {},
     "output_type": "execute_result"
    }
   ],
   "source": [
    "str1"
   ]
  },
  {
   "cell_type": "code",
   "execution_count": 7,
   "id": "e2c7ee63",
   "metadata": {},
   "outputs": [],
   "source": [
    "str1 = str1.lower()"
   ]
  },
  {
   "cell_type": "code",
   "execution_count": 8,
   "id": "03e14862",
   "metadata": {},
   "outputs": [
    {
     "data": {
      "text/plain": [
       "'its a string'"
      ]
     },
     "execution_count": 8,
     "metadata": {},
     "output_type": "execute_result"
    }
   ],
   "source": [
    "str1"
   ]
  },
  {
   "cell_type": "code",
   "execution_count": 10,
   "id": "a9086b9a",
   "metadata": {},
   "outputs": [
    {
     "data": {
      "text/plain": [
       "4"
      ]
     },
     "execution_count": 10,
     "metadata": {},
     "output_type": "execute_result"
    }
   ],
   "source": [
    "str1.find('a')"
   ]
  },
  {
   "cell_type": "code",
   "execution_count": 15,
   "id": "e5dcfed2",
   "metadata": {},
   "outputs": [
    {
     "data": {
      "text/plain": [
       "6"
      ]
     },
     "execution_count": 15,
     "metadata": {},
     "output_type": "execute_result"
    }
   ],
   "source": [
    "str1.find('string')"
   ]
  },
  {
   "cell_type": "code",
   "execution_count": 16,
   "id": "298340dc",
   "metadata": {},
   "outputs": [
    {
     "data": {
      "text/plain": [
       "'its a str'"
      ]
     },
     "execution_count": 16,
     "metadata": {},
     "output_type": "execute_result"
    }
   ],
   "source": [
    "str1.replace('string', 'str')"
   ]
  },
  {
   "cell_type": "code",
   "execution_count": 17,
   "id": "c38c7cad",
   "metadata": {},
   "outputs": [
    {
     "data": {
      "text/plain": [
       "'its a string'"
      ]
     },
     "execution_count": 17,
     "metadata": {},
     "output_type": "execute_result"
    }
   ],
   "source": [
    "str1"
   ]
  },
  {
   "cell_type": "code",
   "execution_count": 18,
   "id": "cfe1d3d1",
   "metadata": {},
   "outputs": [],
   "source": [
    "str1 = str1.replace(\"a string\", 'str')"
   ]
  },
  {
   "cell_type": "code",
   "execution_count": 19,
   "id": "61084b88",
   "metadata": {},
   "outputs": [
    {
     "data": {
      "text/plain": [
       "'its str'"
      ]
     },
     "execution_count": 19,
     "metadata": {},
     "output_type": "execute_result"
    }
   ],
   "source": [
    "str1"
   ]
  },
  {
   "cell_type": "code",
   "execution_count": null,
   "id": "174ba5d7",
   "metadata": {},
   "outputs": [],
   "source": []
  }
 ],
 "metadata": {
  "kernelspec": {
   "display_name": "Python 3 (ipykernel)",
   "language": "python",
   "name": "python3"
  },
  "language_info": {
   "codemirror_mode": {
    "name": "ipython",
    "version": 3
   },
   "file_extension": ".py",
   "mimetype": "text/x-python",
   "name": "python",
   "nbconvert_exporter": "python",
   "pygments_lexer": "ipython3",
   "version": "3.9.12"
  }
 },
 "nbformat": 4,
 "nbformat_minor": 5
}
