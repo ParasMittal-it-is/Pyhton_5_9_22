{
 "cells": [
  {
   "cell_type": "code",
   "execution_count": 5,
   "id": "d96b2df6",
   "metadata": {},
   "outputs": [
    {
     "name": "stdout",
     "output_type": "stream",
     "text": [
      "[1, 2, 3, 4]\n",
      "After append :-  [1, 2, 3, 4, 5]\n",
      "After Insertion :-  [1, 2, 9, 3, 4, 5]\n"
     ]
    }
   ],
   "source": [
    "# 1.\n",
    "lst = [1,2,3,4]\n",
    "print(lst)\n",
    "\n",
    "lst.append(5) # at last only\n",
    "print(\"After append :- \", lst)\n",
    "\n",
    "lst.insert(2, 9) # at any position you want\n",
    "print(\"After Insertion :- \", lst)"
   ]
  },
  {
   "cell_type": "code",
   "execution_count": 25,
   "id": "34081080",
   "metadata": {},
   "outputs": [
    {
     "name": "stdout",
     "output_type": "stream",
     "text": [
      "[1]\n"
     ]
    }
   ],
   "source": [
    "# 2.\n",
    "lst2 = [1, 2, 3, 4]\n",
    "lst2.remove(2) # deletes the value\n",
    "del lst2[2]  # not a function, its an operator, deletes by using index\n",
    "lst2.pop() # deletes last item\n",
    "\n",
    "print(lst2)"
   ]
  },
  {
   "cell_type": "code",
   "execution_count": 29,
   "id": "5fc98457",
   "metadata": {},
   "outputs": [
    {
     "name": "stdout",
     "output_type": "stream",
     "text": [
      "1\n",
      "3\n",
      "5\n",
      "7\n",
      "9\n"
     ]
    }
   ],
   "source": [
    "# # 3.range() :- \n",
    "#      i.mostly used in looping \n",
    "#      ii.return values from start to end-1 as shown in the syntax\n",
    "#      iii.range(start, end, n+1)\n",
    "#      iv.n is nothing but defines the value of distance\n",
    "for i in range(1, 10, 2):\n",
    "    print(i)"
   ]
  },
  {
   "cell_type": "code",
   "execution_count": 35,
   "id": "5c9a6c00",
   "metadata": {},
   "outputs": [
    {
     "name": "stdout",
     "output_type": "stream",
     "text": [
      "True\n",
      "5\n"
     ]
    }
   ],
   "source": [
    "#4.\n",
    "a=5 # to asign the value to the varibale \n",
    "print(a==5) # to compare the value, returns bool\n",
    "\n",
    "print(a)"
   ]
  },
  {
   "cell_type": "code",
   "execution_count": 37,
   "id": "3cf5311e",
   "metadata": {},
   "outputs": [
    {
     "name": "stdout",
     "output_type": "stream",
     "text": [
      "ESREVER\n"
     ]
    }
   ],
   "source": [
    "# 5.\n",
    "string = \"REVERSE\"\n",
    "print(string[::-1])"
   ]
  },
  {
   "cell_type": "code",
   "execution_count": 41,
   "id": "707681f8",
   "metadata": {},
   "outputs": [
    {
     "data": {
      "text/plain": [
       "[11,\n",
       " 13,\n",
       " 15,\n",
       " 17,\n",
       " 19,\n",
       " 21,\n",
       " 23,\n",
       " 25,\n",
       " 27,\n",
       " 29,\n",
       " 31,\n",
       " 33,\n",
       " 35,\n",
       " 37,\n",
       " 39,\n",
       " 41,\n",
       " 43,\n",
       " 45,\n",
       " 47,\n",
       " 49]"
      ]
     },
     "execution_count": 41,
     "metadata": {},
     "output_type": "execute_result"
    }
   ],
   "source": [
    "# 6.\n",
    "num = 25\n",
    "lst = []\n",
    "\n",
    "for i in range(10, 51):\n",
    "    for j in range(2, i):\n",
    "        if i%2!=0:\n",
    "            lst.append(i)\n",
    "            break\n",
    "lst"
   ]
  },
  {
   "cell_type": "code",
   "execution_count": 44,
   "id": "ffc7d8a2",
   "metadata": {},
   "outputs": [
    {
     "name": "stdout",
     "output_type": "stream",
     "text": [
      "5050\n"
     ]
    }
   ],
   "source": [
    "# 7. \n",
    "sum = 0\n",
    "for i in range(1, 101):\n",
    "    sum+=i\n",
    "print(sum)"
   ]
  },
  {
   "cell_type": "code",
   "execution_count": 45,
   "id": "1743f76f",
   "metadata": {},
   "outputs": [
    {
     "name": "stdout",
     "output_type": "stream",
     "text": [
      "[1, 3, 2, 1, 3, 2]\n"
     ]
    }
   ],
   "source": [
    "# 8.\n",
    "list1 = [1, 3, 2]\n",
    "print(list1*2)"
   ]
  },
  {
   "cell_type": "code",
   "execution_count": 48,
   "id": "6e5d7a3e",
   "metadata": {},
   "outputs": [
    {
     "name": "stdout",
     "output_type": "stream",
     "text": [
      "Average is  57.666666666666664\n"
     ]
    }
   ],
   "source": [
    "# 9.\n",
    "lst3 = [85, 25, 63]\n",
    "length = len(lst3)\n",
    "sum1 = 0\n",
    "for i in lst3:\n",
    "    sum1+=i\n",
    "    \n",
    "print(\"Average is \", sum1/length)"
   ]
  },
  {
   "cell_type": "code",
   "execution_count": 52,
   "id": "10190172",
   "metadata": {},
   "outputs": [
    {
     "name": "stdout",
     "output_type": "stream",
     "text": [
      "Enter number :- 25\n",
      "Positive\n"
     ]
    }
   ],
   "source": [
    "# 10.\n",
    "a = int(input(\"Enter number :- \"))\n",
    "if a>0:\n",
    "    print(\"Positive\")\n",
    "elif a<0:\n",
    "    print(\"Negative\")\n",
    "else :\n",
    "    print(\"Zero\")"
   ]
  },
  {
   "cell_type": "code",
   "execution_count": 53,
   "id": "3a7fd1b2",
   "metadata": {},
   "outputs": [
    {
     "name": "stdout",
     "output_type": "stream",
     "text": [
      "Divisible by 5 and 11\n"
     ]
    }
   ],
   "source": [
    "# 11.\n",
    "num = 55\n",
    "if num%5==0 and num%11==0:\n",
    "    print(\"Divisible by 5 and 11\")\n",
    "else:\n",
    "    print(\"Not divisible by...\")"
   ]
  },
  {
   "cell_type": "code",
   "execution_count": 58,
   "id": "f706c0da",
   "metadata": {},
   "outputs": [
    {
     "name": "stdout",
     "output_type": "stream",
     "text": [
      "Profit of  54000\n"
     ]
    }
   ],
   "source": [
    "# 12.\n",
    "invest = 36000\n",
    "retrn = 90000\n",
    "if retrn>invest:\n",
    "    print(\"Profit of \",retrn-invest)\n",
    "elif retrn<invest:\n",
    "    print(\"Loss of \", invest-retrn)\n",
    "else:\n",
    "    print(\"Same as invested\")"
   ]
  },
  {
   "cell_type": "code",
   "execution_count": 59,
   "id": "7629b132",
   "metadata": {},
   "outputs": [
    {
     "name": "stdout",
     "output_type": "stream",
     "text": [
      "Enter basic salary :- 25000\n",
      "Gross salary :-  56250.0\n"
     ]
    }
   ],
   "source": [
    "# 13.\n",
    "bs = float(input(\"Enter basic salary :- \"))\n",
    "if bs<=10000:\n",
    "    gs = bs+((bs*20)/100)+((bs*80)/100)\n",
    "elif bs<=20000:\n",
    "    gs = bs+((bs*25)/100)+((bs*90)/100)\n",
    "elif bs>20000:\n",
    "    gs = bs+((bs*30)/100)+((bs*95)/100)\n",
    "    \n",
    "print(\"Gross salary :- \",gs)"
   ]
  },
  {
   "cell_type": "code",
   "execution_count": 5,
   "id": "f7956170",
   "metadata": {},
   "outputs": [
    {
     "name": "stdout",
     "output_type": "stream",
     "text": [
      "Enter the units :- 251\n",
      "You have to pay the amt. of  :-  426.7\n"
     ]
    }
   ],
   "source": [
    "# 14.\n",
    "uc = float(input(\"Enter the units :- \"))\n",
    "\n",
    "if uc <= 50:\n",
    "    bill = uc*0.5   \n",
    "elif uc <=(150):\n",
    "    bill = uc*0.75 \n",
    "elif uc <= (250):\n",
    "    bill = uc*1.20\n",
    "elif uc >250:\n",
    "    bill = uc*1.50\n",
    "    \n",
    "subcharge = (uc*20/100)\n",
    "bill+=subcharge\n",
    "print(\"You have to pay the amt. of  :- \", bill)"
   ]
  },
  {
   "cell_type": "code",
   "execution_count": 7,
   "id": "d9184f20",
   "metadata": {},
   "outputs": [
    {
     "name": "stdout",
     "output_type": "stream",
     "text": [
      "Before Swapping :-  25 52\n",
      "After Swapping :-  52 25\n"
     ]
    }
   ],
   "source": [
    "# 15.\n",
    "a = 25\n",
    "b = 52\n",
    "print(\"Before Swapping :- \", a, b)\n",
    "a, b = b, a\n",
    "print(\"After Swapping :- \", a, b)"
   ]
  },
  {
   "cell_type": "code",
   "execution_count": 4,
   "id": "34eaa6be",
   "metadata": {},
   "outputs": [
    {
     "name": "stdout",
     "output_type": "stream",
     "text": [
      "[3, 5, 5]\n",
      "75\n"
     ]
    }
   ],
   "source": [
    "# 16. WAP and find lcm of two numbers\n",
    "num1 = 25\n",
    "num2 = 15\n",
    "lst3 = []\n",
    "while num1!=1 and num2!=1:\n",
    "    for i in range(1,num1+1):\n",
    "            while num1%i==0 and i!=1 and num2%i==0:\n",
    "                if num1%i==0 and num2%i==0:\n",
    "                    lst3.append(i)\n",
    "                    num1//=i\n",
    "                    num2//=i\n",
    "            while num1%i==0 and i!=1:\n",
    "                if num1%i==0:\n",
    "                    lst3.append(i)\n",
    "                    num1//=i               \n",
    "            while i!=1 and num2%i==0:\n",
    "                if num2%i==0:\n",
    "                    lst3.append(i)\n",
    "                    num2//=i\n",
    "print(lst3)\n",
    "lcm=1\n",
    "for i in lst3:\n",
    "    lcm*=i\n",
    "print(lcm)"
   ]
  },
  {
   "cell_type": "code",
   "execution_count": 9,
   "id": "48a54801",
   "metadata": {},
   "outputs": [
    {
     "name": "stdout",
     "output_type": "stream",
     "text": [
      "leap\n"
     ]
    }
   ],
   "source": [
    "# 17.WAP to check the year is leap year or not .\n",
    "\n",
    "year = 2024\n",
    "if year%4==0:\n",
    "    if year%100==0:\n",
    "        if year %400==0:\n",
    "            print(\"leap\")\n",
    "        else:\n",
    "            print(\"no\")\n",
    "    else:\n",
    "        print(\"leap\")\n",
    "else:\n",
    "    print(\"no\")\n",
    "    "
   ]
  },
  {
   "cell_type": "code",
   "execution_count": 12,
   "id": "3d42d827",
   "metadata": {},
   "outputs": [
    {
     "name": "stdout",
     "output_type": "stream",
     "text": [
      "2252\n",
      "<class 'int'>\n"
     ]
    }
   ],
   "source": [
    "# 18.Write a program to reverse a number in Python\n",
    "\n",
    "num = 2522\n",
    "string = str(num)\n",
    "revnum = int(string[::-1])\n",
    "print(revnum)\n",
    "print(type(num))"
   ]
  },
  {
   "cell_type": "code",
   "execution_count": 8,
   "id": "a7c07979",
   "metadata": {},
   "outputs": [
    {
     "name": "stdout",
     "output_type": "stream",
     "text": [
      "11\n"
     ]
    }
   ],
   "source": [
    "# 19.Write a program to find the sum of the digits of a number in Python\n",
    "num = 2522\n",
    "sum = 0\n",
    "while num>1:\n",
    "    temp=num%10\n",
    "    num//=10\n",
    "    sum+=temp\n",
    "print(sum)"
   ]
  },
  {
   "cell_type": "code",
   "execution_count": 10,
   "id": "f53e5415",
   "metadata": {},
   "outputs": [
    {
     "name": "stdout",
     "output_type": "stream",
     "text": [
      "[('Basic', 8), ('C#', 1), ('Go', 7), ('Python', 60)]\n"
     ]
    }
   ],
   "source": [
    "# 20.How to sort list of tuples.\n",
    "lang_listtuple= [('C#',1), ('Go',7), ('Basic',8), ('Python',60)]\n",
    "lang_listtuple.sort()\n",
    "print(lang_listtuple)"
   ]
  },
  {
   "cell_type": "code",
   "execution_count": 14,
   "id": "42bf1335",
   "metadata": {},
   "outputs": [
    {
     "name": "stdout",
     "output_type": "stream",
     "text": [
      "compound interest :-  13891.500000000002\n",
      "Simple interest :-  60000\n"
     ]
    }
   ],
   "source": [
    "# 21.WAP for simple & compound interest in python.\n",
    "p = 12000\n",
    "r = 5\n",
    "n = 3\n",
    "t = 1\n",
    "ci = p*((1+(r/100))**(n*t))\n",
    "print(\"compound interest :- \", ci)\n",
    "si = p*r*t\n",
    "print(\"Simple interest :- \", si)"
   ]
  },
  {
   "cell_type": "code",
   "execution_count": 7,
   "id": "a1e54294",
   "metadata": {},
   "outputs": [
    {
     "data": {
      "text/plain": [
       "{'Weight': 4, 'Country': 'US', 'City': 'California'}"
      ]
     },
     "execution_count": 7,
     "metadata": {},
     "output_type": "execute_result"
    }
   ],
   "source": [
    "# 22.WAP to delete set of keys in dict\n",
    "\n",
    "animaldict = {\n",
    "  \"name\": \"Dog\",\n",
    "  \"age\":5,\n",
    "  \"Weight\": 4,\n",
    "  \"Country\": \"US\",\n",
    "  \"City\":\"California\"\n",
    "}\n",
    "\n",
    "remove = [\"name\", \"age\"]\n",
    "\n",
    "for i in remove:\n",
    "    animaldict.pop(i)\n",
    "animaldict"
   ]
  },
  {
   "cell_type": "code",
   "execution_count": null,
   "id": "8a303dd0",
   "metadata": {},
   "outputs": [],
   "source": []
  }
 ],
 "metadata": {
  "kernelspec": {
   "display_name": "Python 3 (ipykernel)",
   "language": "python",
   "name": "python3"
  },
  "language_info": {
   "codemirror_mode": {
    "name": "ipython",
    "version": 3
   },
   "file_extension": ".py",
   "mimetype": "text/x-python",
   "name": "python",
   "nbconvert_exporter": "python",
   "pygments_lexer": "ipython3",
   "version": "3.9.12"
  }
 },
 "nbformat": 4,
 "nbformat_minor": 5
}
