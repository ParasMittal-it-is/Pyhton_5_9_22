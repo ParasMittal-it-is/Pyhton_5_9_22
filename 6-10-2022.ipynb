{
 "cells": [
  {
   "cell_type": "code",
   "execution_count": 2,
   "id": "f0e88d20",
   "metadata": {},
   "outputs": [
    {
     "name": "stdout",
     "output_type": "stream",
     "text": [
      "Max number is :-  50\n"
     ]
    }
   ],
   "source": [
    "#wap to find max no. from three numbers using function.\n",
    "\n",
    "def maxnum(a, b, c):\n",
    "    if a>b and a>c:\n",
    "        return a\n",
    "    elif b>a and b>c:\n",
    "        return b\n",
    "    else:\n",
    "        return c\n",
    "\n",
    "print(\"Max number is :- \", maxnum(10, 25, 50))\n"
   ]
  },
  {
   "cell_type": "code",
   "execution_count": 3,
   "id": "42ba9bca",
   "metadata": {},
   "outputs": [
    {
     "name": "stdout",
     "output_type": "stream",
     "text": [
      "Max number is :-  10\n"
     ]
    }
   ],
   "source": [
    "# wap to find min no. from three numbers using function.\n",
    "\n",
    "def maxnum(a, b, c):\n",
    "    if a<b and a<c:\n",
    "        return a\n",
    "    elif b<a and b<c:\n",
    "        return b\n",
    "    else:\n",
    "        return c\n",
    "\n",
    "print(\"Max number is :- \", maxnum(10, 25, 50))\n"
   ]
  },
  {
   "cell_type": "code",
   "execution_count": 6,
   "id": "d493cf70",
   "metadata": {},
   "outputs": [
    {
     "name": "stdout",
     "output_type": "stream",
     "text": [
      "76\n"
     ]
    }
   ],
   "source": [
    "#Wap to sum all number present in a list.\n",
    "\n",
    "def sumlist(lst):\n",
    "    sum = 0\n",
    "    for i in lst:\n",
    "        sum+=i\n",
    "    return sum\n",
    "\n",
    "print(sumlist([1, 25, 50]))"
   ]
  },
  {
   "cell_type": "code",
   "execution_count": 13,
   "id": "ab01dee8",
   "metadata": {},
   "outputs": [
    {
     "name": "stdout",
     "output_type": "stream",
     "text": [
      "If string is reversed :-  no\n"
     ]
    }
   ],
   "source": [
    "#wap to check a string is reversed or not?\n",
    "\n",
    "def strrev(str1):\n",
    "    if str1==str1[::-1]:\n",
    "        return \"no\"\n",
    "    else:\n",
    "        return \"yes\"\n",
    "print(\"If string is reversed :- \",strrev(\"NAMAN\"))"
   ]
  },
  {
   "cell_type": "code",
   "execution_count": 10,
   "id": "2f6cef0c",
   "metadata": {},
   "outputs": [
    {
     "name": "stdout",
     "output_type": "stream",
     "text": [
      "If number is odd :-  yes\n"
     ]
    }
   ],
   "source": [
    "#Wap to find odd number using function.\n",
    "\n",
    "def odd(num):\n",
    "    if num%2==0:\n",
    "        return \"No\"\n",
    "    else:\n",
    "        return \"yes\"\n",
    "\n",
    "print(\"If number is odd :- \", odd(29))"
   ]
  },
  {
   "cell_type": "code",
   "execution_count": 11,
   "id": "e6a45a0e",
   "metadata": {},
   "outputs": [
    {
     "name": "stdout",
     "output_type": "stream",
     "text": [
      "If number is even :-  No\n"
     ]
    }
   ],
   "source": [
    "#wap to find even no. using function.\n",
    "\n",
    "def odd(num):\n",
    "    if num%2==0:\n",
    "        return \"Yes\"\n",
    "    else:\n",
    "        return \"No\"\n",
    "\n",
    "print(\"If number is even :- \", odd(29))"
   ]
  },
  {
   "cell_type": "code",
   "execution_count": 12,
   "id": "63fc25f1",
   "metadata": {},
   "outputs": [
    {
     "name": "stdout",
     "output_type": "stream",
     "text": [
      "If string is reversed :-  yes\n"
     ]
    }
   ],
   "source": [
    "# Write a function to check a string is palindrome or not?\n",
    "\n",
    "def strrev(str1):\n",
    "    if str1==str1[::-1]:\n",
    "        return \"yes\"\n",
    "    else:\n",
    "        return \"no\"\n",
    "print(\"If string is reversed :- \",strrev(\"NAMAN\"))"
   ]
  },
  {
   "cell_type": "code",
   "execution_count": 15,
   "id": "a13b8ded",
   "metadata": {},
   "outputs": [
    {
     "name": "stdout",
     "output_type": "stream",
     "text": [
      "55\n"
     ]
    }
   ],
   "source": [
    "#Wap to sum the first 10 natural numbers using function?\n",
    "\n",
    "def sumnat():\n",
    "    sum=0\n",
    "    for i in range(11):\n",
    "        sum+=i\n",
    "    return sum\n",
    "print(sumnat())"
   ]
  },
  {
   "cell_type": "code",
   "execution_count": null,
   "id": "c02e0254",
   "metadata": {},
   "outputs": [],
   "source": []
  }
 ],
 "metadata": {
  "kernelspec": {
   "display_name": "Python 3 (ipykernel)",
   "language": "python",
   "name": "python3"
  },
  "language_info": {
   "codemirror_mode": {
    "name": "ipython",
    "version": 3
   },
   "file_extension": ".py",
   "mimetype": "text/x-python",
   "name": "python",
   "nbconvert_exporter": "python",
   "pygments_lexer": "ipython3",
   "version": "3.9.12"
  }
 },
 "nbformat": 4,
 "nbformat_minor": 5
}
