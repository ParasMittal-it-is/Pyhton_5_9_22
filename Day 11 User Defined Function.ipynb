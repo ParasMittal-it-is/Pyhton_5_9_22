{
 "cells": [
  {
   "cell_type": "code",
   "execution_count": 1,
   "id": "905ec889",
   "metadata": {},
   "outputs": [],
   "source": [
    "# def fn_name():\n",
    "#     definition or code "
   ]
  },
  {
   "cell_type": "code",
   "execution_count": 1,
   "id": "f175fc05",
   "metadata": {},
   "outputs": [
    {
     "data": {
      "text/plain": [
       "147"
      ]
     },
     "execution_count": 1,
     "metadata": {},
     "output_type": "execute_result"
    }
   ],
   "source": [
    "# create a function to add two integers\n",
    "def add(a, b):\n",
    "    return a+b\n",
    "add(95, 52)"
   ]
  },
  {
   "cell_type": "code",
   "execution_count": 3,
   "id": "022abd56",
   "metadata": {},
   "outputs": [
    {
     "name": "stdout",
     "output_type": "stream",
     "text": [
      "Enter three different integers :- 25 45 58\n",
      "58 is greatest number.\n"
     ]
    }
   ],
   "source": [
    "# wap to find max no. from three numbers using function.\n",
    "def maxof3(a, b, c):\n",
    "    if a>b and a>c:\n",
    "        return a\n",
    "    elif b>a and b>c:\n",
    "        return b\n",
    "    else:\n",
    "        return c\n",
    "\n",
    "a, b, c = map(int,input(\"Enter three different integers :- \").split())\n",
    "\n",
    "maxn = maxof3(a, b, c)\n",
    "\n",
    "print(maxn, \"is greatest number.\")"
   ]
  },
  {
   "cell_type": "code",
   "execution_count": 6,
   "id": "3e50ca00",
   "metadata": {},
   "outputs": [
    {
     "name": "stdout",
     "output_type": "stream",
     "text": [
      "Enter three different integers :- 45 85 11\n",
      "11 is smallest number.\n"
     ]
    }
   ],
   "source": [
    "# wap to find min no. from three numbers using function.\n",
    "def minof3(a, b, c):\n",
    "    if a<b and a<c:\n",
    "        return a\n",
    "    elif b<a and b<c:\n",
    "        return b\n",
    "    else:\n",
    "        return c\n",
    "\n",
    "a, b, c = map(int,input(\"Enter three different integers :- \").split())\n",
    "\n",
    "minn = minof3(a, b, c)\n",
    "\n",
    "print(minn, \"is smallest number.\")"
   ]
  },
  {
   "cell_type": "code",
   "execution_count": 10,
   "id": "94942e40",
   "metadata": {},
   "outputs": [
    {
     "data": {
      "text/plain": [
       "120"
      ]
     },
     "execution_count": 10,
     "metadata": {},
     "output_type": "execute_result"
    }
   ],
   "source": [
    "# Wap to sum all number present in a list.\n",
    "\n",
    "def solst(lst):\n",
    "    sum=0\n",
    "    for i in lst:\n",
    "        sum+=i\n",
    "    return sum\n",
    "solst([1, 20, 89, 10])"
   ]
  },
  {
   "cell_type": "code",
   "execution_count": 19,
   "id": "005a96d7",
   "metadata": {},
   "outputs": [
    {
     "data": {
      "text/plain": [
       "'Palindrame'"
      ]
     },
     "execution_count": 19,
     "metadata": {},
     "output_type": "execute_result"
    }
   ],
   "source": [
    "# wap to check a string is palindrame or not?\n",
    "\n",
    "def pal(string):\n",
    "    if string == string[::-1]:\n",
    "        return \"Palindrame\"\n",
    "    else:\n",
    "        return \"NO\"\n",
    "\n",
    "pal(\"NAMAN\")\n"
   ]
  },
  {
   "cell_type": "code",
   "execution_count": 23,
   "id": "9bac2490",
   "metadata": {},
   "outputs": [
    {
     "data": {
      "text/plain": [
       "[1, 3, 5, 7, 9, 11]"
      ]
     },
     "execution_count": 23,
     "metadata": {},
     "output_type": "execute_result"
    }
   ],
   "source": [
    "# Wap to find odd numbers using function in any particular range\n",
    "lst=[]\n",
    "def odd(strt, end):\n",
    "    for i in range(strt, end+1):\n",
    "        if i%2!=0:\n",
    "            lst.append(i)\n",
    "    return lst\n",
    "\n",
    "odd(1, 11)"
   ]
  },
  {
   "cell_type": "code",
   "execution_count": 24,
   "id": "f1cf7857",
   "metadata": {},
   "outputs": [
    {
     "data": {
      "text/plain": [
       "[2, 4, 6, 8, 10]"
      ]
     },
     "execution_count": 24,
     "metadata": {},
     "output_type": "execute_result"
    }
   ],
   "source": [
    "# wap to find even nos. using function in any particular range\n",
    "lst=[]\n",
    "def even(strt, end):\n",
    "    for i in range(strt, end+1):\n",
    "        if i%2==0:\n",
    "            lst.append(i)\n",
    "    return lst\n",
    "\n",
    "even(1, 11)\n"
   ]
  },
  {
   "cell_type": "code",
   "execution_count": 25,
   "id": "303f171b",
   "metadata": {},
   "outputs": [
    {
     "data": {
      "text/plain": [
       "'TKADANA'"
      ]
     },
     "execution_count": 25,
     "metadata": {},
     "output_type": "execute_result"
    }
   ],
   "source": [
    "# Write a funcion which is used to reverse the string\n",
    "def rev(a):\n",
    "    return a[::-1]\n",
    "rev(\"ANADAKT\")"
   ]
  },
  {
   "cell_type": "code",
   "execution_count": 36,
   "id": "289d52e2",
   "metadata": {},
   "outputs": [
    {
     "name": "stdout",
     "output_type": "stream",
     "text": [
      "Enter marks of 5 students :- \n",
      "399\n",
      "411\n",
      "420\n",
      "400\n",
      "398\n",
      "[399, 411, 420, 400, 398]\n",
      "79.8 %\n",
      "82.2 %\n",
      "84.0 %\n",
      "80.0 %\n",
      "79.6 %\n"
     ]
    }
   ],
   "source": [
    "# Wap to calculate the percentage of 5 students??\n",
    "\n",
    "def per5(lst):\n",
    "    print(lst)\n",
    "    for i in lst:\n",
    "        print(i/5, \"%\")\n",
    "\n",
    "\n",
    "lst=[]\n",
    "print(\"Enter marks of 5 students :- \")\n",
    "for i in range(0,5):\n",
    "    a=int(input())\n",
    "    lst.append(a)\n",
    "per5(lst)"
   ]
  },
  {
   "cell_type": "code",
   "execution_count": 15,
   "id": "ec302489",
   "metadata": {},
   "outputs": [
    {
     "name": "stdout",
     "output_type": "stream",
     "text": [
      "28.274333882308138 18.84955592153876\n"
     ]
    }
   ],
   "source": [
    "# Wap to find the area and circumference of circle and also try to find\n",
    "import math\n",
    "def area(r):\n",
    "    return (math.pi)*r*r\n",
    "A = area(3)\n",
    "\n",
    "def circum(r):\n",
    "    return 2*(math.pi)*r\n",
    "C = circum(3)\n",
    "print(A, C)"
   ]
  },
  {
   "cell_type": "code",
   "execution_count": 19,
   "id": "117984c9",
   "metadata": {},
   "outputs": [
    {
     "name": "stdout",
     "output_type": "stream",
     "text": [
      "600 120000000.0\n"
     ]
    }
   ],
   "source": [
    "# Calculate the total area of a land having l=20 b=30.If the land\n",
    "# is greater than 100sq fit then also calculate the cost of \n",
    "# remaining land. Price of land is 20000K.\n",
    "\n",
    "def area(l, b):\n",
    "    a = l*b\n",
    "    price = 20000000\n",
    "    if a>100:\n",
    "        perfeet = 20000000/100\n",
    "        price = perfeet*a\n",
    "    return a, price\n",
    "\n",
    "a, price = area(20, 30)\n",
    "\n",
    "print(a, price)"
   ]
  },
  {
   "cell_type": "code",
   "execution_count": 22,
   "id": "743f89af",
   "metadata": {},
   "outputs": [
    {
     "name": "stdout",
     "output_type": "stream",
     "text": [
      "Discount and final price  :-  80.0 720.0\n"
     ]
    }
   ],
   "source": [
    "# Wap to find out the total cost of 5 quantity each\n",
    "# quantity is having the value of 80 and if the value exceed by\n",
    "# avg value then discount 10% and also calculate the total price of whole quantity\n",
    "# avg value => 350\n",
    "def price(qty):\n",
    "    rs = qty*80\n",
    "    disc = 0\n",
    "    if rs>350:\n",
    "        disc = (rs*10)/100\n",
    "        return rs-disc, disc\n",
    "    else:\n",
    "        return rs, disc\n",
    "\n",
    "rs, disc = price(10)\n",
    "    \n",
    "print(\"Discount and final price  :- \",disc, rs)"
   ]
  },
  {
   "cell_type": "code",
   "execution_count": null,
   "id": "9afee87a",
   "metadata": {},
   "outputs": [],
   "source": []
  }
 ],
 "metadata": {
  "kernelspec": {
   "display_name": "Python 3 (ipykernel)",
   "language": "python",
   "name": "python3"
  },
  "language_info": {
   "codemirror_mode": {
    "name": "ipython",
    "version": 3
   },
   "file_extension": ".py",
   "mimetype": "text/x-python",
   "name": "python",
   "nbconvert_exporter": "python",
   "pygments_lexer": "ipython3",
   "version": "3.9.12"
  }
 },
 "nbformat": 4,
 "nbformat_minor": 5
}
