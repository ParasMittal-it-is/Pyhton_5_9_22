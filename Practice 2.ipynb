{
 "cells": [
  {
   "cell_type": "code",
   "execution_count": 2,
   "id": "25fb298f",
   "metadata": {},
   "outputs": [
    {
     "name": "stdout",
     "output_type": "stream",
     "text": [
      "Enter the string :- Paras\n",
      "P@r@s\n"
     ]
    }
   ],
   "source": [
    "# Python program to replace all occurences of 'a' with '@' in a string\n",
    "str1 = input(\"Enter the string :- \")\n",
    "str2 = ''\n",
    "for i in str1:\n",
    "    if i=='a':\n",
    "        str2 = str2 + '@'\n",
    "    else:\n",
    "        str2 = str2+i\n",
    "str1=str2\n",
    "print(str1)\n",
    "        "
   ]
  },
  {
   "cell_type": "code",
   "execution_count": 4,
   "id": "88e32583",
   "metadata": {},
   "outputs": [
    {
     "name": "stdout",
     "output_type": "stream",
     "text": [
      "Enter the string :- Parasaa\n",
      "4\n"
     ]
    }
   ],
   "source": [
    "# Python program to count the number of vowels in a string\n",
    "string = input(\"Enter the string :- \")\n",
    "count=0\n",
    "for i in string:\n",
    "    if i=='a' or i=='i' or i=='o' or i=='e' or i=='u':\n",
    "        count+=1\n",
    "print(count)"
   ]
  },
  {
   "cell_type": "code",
   "execution_count": 5,
   "id": "d3ed2ee1",
   "metadata": {},
   "outputs": [
    {
     "name": "stdout",
     "output_type": "stream",
     "text": [
      "Enter the string :- Parsa bshdb ksm\n",
      "Number of words :-  3\n",
      "Number of characters :-  15\n"
     ]
    }
   ],
   "source": [
    "# Python program to count the number of words and number of characters in a string\n",
    "string = input(\"Enter the string :- \")\n",
    "no_w = 1\n",
    "no_c = 0\n",
    "for i in string:\n",
    "    if i==\" \":\n",
    "        no_w+=1\n",
    "    no_c+=1\n",
    "print(\"Number of words :- \",no_w)\n",
    "print(\"Number of characters :- \",no_c)"
   ]
  },
  {
   "cell_type": "code",
   "execution_count": null,
   "id": "9e68e75b",
   "metadata": {},
   "outputs": [],
   "source": [
    "# Python program to take two strings and print the larger string\n",
    "str1 = input(\"Enter first string :- \")\n",
    "str2 = input(\"Enter second string :- \")\n",
    "c1, c2 = 0, 0\n",
    "for i in str1:\n",
    "    c1+=1\n",
    "for i in str2:\n",
    "    c2+=1\n",
    "if c1>c2:\n",
    "    print(str1, \" is larger\")\n",
    "elif c2>c1:\n",
    "    print(str2, \" is larger\")\n",
    "else:\n",
    "    print(\"Both are equal in length\")"
   ]
  },
  {
   "cell_type": "code",
   "execution_count": null,
   "id": "553d3897",
   "metadata": {},
   "outputs": [],
   "source": []
  },
  {
   "cell_type": "code",
   "execution_count": null,
   "id": "1e34972c",
   "metadata": {},
   "outputs": [],
   "source": []
  }
 ],
 "metadata": {
  "kernelspec": {
   "display_name": "Python 3 (ipykernel)",
   "language": "python",
   "name": "python3"
  },
  "language_info": {
   "codemirror_mode": {
    "name": "ipython",
    "version": 3
   },
   "file_extension": ".py",
   "mimetype": "text/x-python",
   "name": "python",
   "nbconvert_exporter": "python",
   "pygments_lexer": "ipython3",
   "version": "3.9.12"
  }
 },
 "nbformat": 4,
 "nbformat_minor": 5
}
