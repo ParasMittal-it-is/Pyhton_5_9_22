{
 "cells": [
  {
   "cell_type": "code",
   "execution_count": 12,
   "id": "610e43f0",
   "metadata": {},
   "outputs": [
    {
     "name": "stdout",
     "output_type": "stream",
     "text": [
      "Not Prime\n"
     ]
    }
   ],
   "source": [
    "def prime(num):\n",
    "    i = 2\n",
    "    temp = 0\n",
    "    while i<=(num/2):\n",
    "        if num%i==0:\n",
    "            temp = 1\n",
    "            return temp\n",
    "        i+=1\n",
    "    else:\n",
    "        return temp\n",
    "\n",
    "temp = prime(21)\n",
    "if temp == 0:\n",
    "    print(\"Prime\")\n",
    "else:\n",
    "    print(\"Not Prime\")\n",
    "    "
   ]
  },
  {
   "cell_type": "code",
   "execution_count": 16,
   "id": "d37ab5b8",
   "metadata": {},
   "outputs": [
    {
     "name": "stdout",
     "output_type": "stream",
     "text": [
      "1\n",
      "1\n",
      "2\n",
      "3\n",
      "5\n",
      "8\n",
      "13\n",
      "21\n",
      "34\n"
     ]
    }
   ],
   "source": [
    "def fib(limit):\n",
    "    a=0\n",
    "    b=1\n",
    "    while b <=limit:\n",
    "        print(b)\n",
    "        temp = b\n",
    "        b+=a\n",
    "        a=temp\n",
    "        \n",
    "fib(50)"
   ]
  },
  {
   "cell_type": "code",
   "execution_count": 18,
   "id": "a6b88a17",
   "metadata": {},
   "outputs": [
    {
     "name": "stdout",
     "output_type": "stream",
     "text": [
      "Factorial of 5 is :-  120\n"
     ]
    }
   ],
   "source": [
    "def fact(num):\n",
    "    fact=1\n",
    "    i=1\n",
    "    while i<=num:\n",
    "        fact*=i\n",
    "        i+=1\n",
    "    return fact\n",
    "\n",
    "print(\"Factorial of 5 is :- \", fact(5))"
   ]
  },
  {
   "cell_type": "code",
   "execution_count": null,
   "id": "c90575f9",
   "metadata": {},
   "outputs": [],
   "source": []
  }
 ],
 "metadata": {
  "kernelspec": {
   "display_name": "Python 3 (ipykernel)",
   "language": "python",
   "name": "python3"
  },
  "language_info": {
   "codemirror_mode": {
    "name": "ipython",
    "version": 3
   },
   "file_extension": ".py",
   "mimetype": "text/x-python",
   "name": "python",
   "nbconvert_exporter": "python",
   "pygments_lexer": "ipython3",
   "version": "3.9.12"
  }
 },
 "nbformat": 4,
 "nbformat_minor": 5
}
