{
 "cells": [
  {
   "cell_type": "code",
   "execution_count": 1,
   "id": "4d431782",
   "metadata": {},
   "outputs": [],
   "source": [
    "lst = [25, 26, 85, 45, 'Run']\n"
   ]
  },
  {
   "cell_type": "code",
   "execution_count": 3,
   "id": "68ee6fd6",
   "metadata": {},
   "outputs": [],
   "source": [
    "lst.append(\"Code\")"
   ]
  },
  {
   "cell_type": "code",
   "execution_count": 4,
   "id": "81142dd4",
   "metadata": {},
   "outputs": [
    {
     "data": {
      "text/plain": [
       "[25, 26, 85, 45, 'Run', 'Code']"
      ]
     },
     "execution_count": 4,
     "metadata": {},
     "output_type": "execute_result"
    }
   ],
   "source": [
    "lst\n"
   ]
  },
  {
   "cell_type": "code",
   "execution_count": 6,
   "id": "d96b24e3",
   "metadata": {},
   "outputs": [],
   "source": [
    "lst.insert(2, \"Coding\")"
   ]
  },
  {
   "cell_type": "code",
   "execution_count": 7,
   "id": "6bd68007",
   "metadata": {},
   "outputs": [
    {
     "data": {
      "text/plain": [
       "[25, 26, 'Coding', 85, 45, 'Run', 'Code']"
      ]
     },
     "execution_count": 7,
     "metadata": {},
     "output_type": "execute_result"
    }
   ],
   "source": [
    "lst"
   ]
  },
  {
   "cell_type": "code",
   "execution_count": 9,
   "id": "b2c2befc",
   "metadata": {},
   "outputs": [
    {
     "data": {
      "text/plain": [
       "'Code'"
      ]
     },
     "execution_count": 9,
     "metadata": {},
     "output_type": "execute_result"
    }
   ],
   "source": [
    "lst.pop()"
   ]
  },
  {
   "cell_type": "code",
   "execution_count": 10,
   "id": "d7b0c06e",
   "metadata": {},
   "outputs": [
    {
     "data": {
      "text/plain": [
       "26"
      ]
     },
     "execution_count": 10,
     "metadata": {},
     "output_type": "execute_result"
    }
   ],
   "source": [
    "lst.pop(1)"
   ]
  },
  {
   "cell_type": "code",
   "execution_count": 11,
   "id": "d88734fa",
   "metadata": {},
   "outputs": [
    {
     "data": {
      "text/plain": [
       "[25, 'Coding', 85, 45, 'Run']"
      ]
     },
     "execution_count": 11,
     "metadata": {},
     "output_type": "execute_result"
    }
   ],
   "source": [
    "lst\n"
   ]
  },
  {
   "cell_type": "code",
   "execution_count": 12,
   "id": "6387c601",
   "metadata": {},
   "outputs": [],
   "source": [
    "lst.remove(45)"
   ]
  },
  {
   "cell_type": "code",
   "execution_count": 13,
   "id": "3b1fa72b",
   "metadata": {},
   "outputs": [
    {
     "data": {
      "text/plain": [
       "[25, 'Coding', 85, 'Run']"
      ]
     },
     "execution_count": 13,
     "metadata": {},
     "output_type": "execute_result"
    }
   ],
   "source": [
    "lst"
   ]
  },
  {
   "cell_type": "code",
   "execution_count": 14,
   "id": "0932d43f",
   "metadata": {},
   "outputs": [],
   "source": [
    "lst.reverse()"
   ]
  },
  {
   "cell_type": "code",
   "execution_count": 15,
   "id": "13867823",
   "metadata": {},
   "outputs": [
    {
     "data": {
      "text/plain": [
       "['Run', 85, 'Coding', 25]"
      ]
     },
     "execution_count": 15,
     "metadata": {},
     "output_type": "execute_result"
    }
   ],
   "source": [
    "lst\n"
   ]
  },
  {
   "cell_type": "code",
   "execution_count": 16,
   "id": "07e64ca5",
   "metadata": {},
   "outputs": [
    {
     "ename": "TypeError",
     "evalue": "'<' not supported between instances of 'int' and 'str'",
     "output_type": "error",
     "traceback": [
      "\u001b[1;31m---------------------------------------------------------------------------\u001b[0m",
      "\u001b[1;31mTypeError\u001b[0m                                 Traceback (most recent call last)",
      "Input \u001b[1;32mIn [16]\u001b[0m, in \u001b[0;36m<cell line: 1>\u001b[1;34m()\u001b[0m\n\u001b[1;32m----> 1\u001b[0m \u001b[43mlst\u001b[49m\u001b[38;5;241;43m.\u001b[39;49m\u001b[43msort\u001b[49m\u001b[43m(\u001b[49m\u001b[43m)\u001b[49m\n",
      "\u001b[1;31mTypeError\u001b[0m: '<' not supported between instances of 'int' and 'str'"
     ]
    }
   ],
   "source": [
    "lst.sort()"
   ]
  },
  {
   "cell_type": "code",
   "execution_count": 17,
   "id": "36d30002",
   "metadata": {},
   "outputs": [],
   "source": [
    "lst2 = [1,33,21,322,11,1]"
   ]
  },
  {
   "cell_type": "code",
   "execution_count": 18,
   "id": "b8842c4d",
   "metadata": {},
   "outputs": [],
   "source": [
    "lst2.sort()"
   ]
  },
  {
   "cell_type": "code",
   "execution_count": 19,
   "id": "0cc44329",
   "metadata": {},
   "outputs": [
    {
     "data": {
      "text/plain": [
       "[1, 1, 11, 21, 33, 322]"
      ]
     },
     "execution_count": 19,
     "metadata": {},
     "output_type": "execute_result"
    }
   ],
   "source": [
    "lst2"
   ]
  },
  {
   "cell_type": "code",
   "execution_count": 23,
   "id": "be0d0978",
   "metadata": {},
   "outputs": [],
   "source": [
    "lst3 = ['aa','aw', 'ppa', 'akan']"
   ]
  },
  {
   "cell_type": "code",
   "execution_count": 21,
   "id": "c79fcf2f",
   "metadata": {},
   "outputs": [],
   "source": [
    "lst3.sort()"
   ]
  },
  {
   "cell_type": "code",
   "execution_count": 22,
   "id": "f599f430",
   "metadata": {},
   "outputs": [
    {
     "data": {
      "text/plain": [
       "['aa', 'akan', 'aw', 'ppa']"
      ]
     },
     "execution_count": 22,
     "metadata": {},
     "output_type": "execute_result"
    }
   ],
   "source": [
    "lst3"
   ]
  },
  {
   "cell_type": "code",
   "execution_count": 24,
   "id": "d0220732",
   "metadata": {},
   "outputs": [],
   "source": [
    "lst3.sort(reverse = True)"
   ]
  },
  {
   "cell_type": "code",
   "execution_count": 25,
   "id": "2558bac0",
   "metadata": {},
   "outputs": [
    {
     "data": {
      "text/plain": [
       "['ppa', 'aw', 'akan', 'aa']"
      ]
     },
     "execution_count": 25,
     "metadata": {},
     "output_type": "execute_result"
    }
   ],
   "source": [
    "lst3"
   ]
  },
  {
   "cell_type": "code",
   "execution_count": 26,
   "id": "e3db2419",
   "metadata": {},
   "outputs": [],
   "source": [
    "lst3.clear()"
   ]
  },
  {
   "cell_type": "code",
   "execution_count": 27,
   "id": "59580c7c",
   "metadata": {},
   "outputs": [
    {
     "data": {
      "text/plain": [
       "[]"
      ]
     },
     "execution_count": 27,
     "metadata": {},
     "output_type": "execute_result"
    }
   ],
   "source": [
    "lst3\n"
   ]
  },
  {
   "cell_type": "code",
   "execution_count": null,
   "id": "8885b644",
   "metadata": {},
   "outputs": [],
   "source": []
  }
 ],
 "metadata": {
  "kernelspec": {
   "display_name": "Python 3 (ipykernel)",
   "language": "python",
   "name": "python3"
  },
  "language_info": {
   "codemirror_mode": {
    "name": "ipython",
    "version": 3
   },
   "file_extension": ".py",
   "mimetype": "text/x-python",
   "name": "python",
   "nbconvert_exporter": "python",
   "pygments_lexer": "ipython3",
   "version": "3.9.12"
  }
 },
 "nbformat": 4,
 "nbformat_minor": 5
}
