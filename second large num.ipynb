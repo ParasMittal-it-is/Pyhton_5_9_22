{
 "cells": [
  {
   "cell_type": "code",
   "execution_count": 4,
   "id": "6d3f172d",
   "metadata": {},
   "outputs": [
    {
     "name": "stdout",
     "output_type": "stream",
     "text": [
      "[3, 12, 25, 56, 89]\n",
      "89  is the largest number\n",
      "56  is the second largest number\n"
     ]
    }
   ],
   "source": [
    "lst = [ 25,56,89,12,3]\n",
    "mini = lst[0]\n",
    "lst2 = []\n",
    "while lst!=[]:\n",
    "    for j in lst:\n",
    "        if mini>j:\n",
    "            mini = j\n",
    "\n",
    "    lst2.append(mini)\n",
    "    lst.remove(mini)\n",
    "    if lst==[]:\n",
    "        break\n",
    "    mini=lst[0]\n",
    "print(lst2)\n",
    "print(lst2[-1], \" is the largest number\")\n",
    "print(lst2[-2], \" is the second largest number\")"
   ]
  },
  {
   "cell_type": "code",
   "execution_count": null,
   "id": "9d36d792",
   "metadata": {},
   "outputs": [],
   "source": []
  }
 ],
 "metadata": {
  "kernelspec": {
   "display_name": "Python 3 (ipykernel)",
   "language": "python",
   "name": "python3"
  },
  "language_info": {
   "codemirror_mode": {
    "name": "ipython",
    "version": 3
   },
   "file_extension": ".py",
   "mimetype": "text/x-python",
   "name": "python",
   "nbconvert_exporter": "python",
   "pygments_lexer": "ipython3",
   "version": "3.9.12"
  }
 },
 "nbformat": 4,
 "nbformat_minor": 5
}
