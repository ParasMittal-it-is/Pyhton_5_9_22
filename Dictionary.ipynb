{
 "cells": [
  {
   "cell_type": "code",
   "execution_count": 42,
   "id": "ded7097f",
   "metadata": {},
   "outputs": [],
   "source": [
    "d1 = {\n",
    "    \"a\":1,\n",
    "    1:'1',\n",
    "    \n",
    "}"
   ]
  },
  {
   "cell_type": "code",
   "execution_count": 4,
   "id": "d7bdf01f",
   "metadata": {},
   "outputs": [
    {
     "name": "stdout",
     "output_type": "stream",
     "text": [
      "{'a': 1, 1: '1'}\n"
     ]
    }
   ],
   "source": [
    "print(d1)"
   ]
  },
  {
   "cell_type": "code",
   "execution_count": 5,
   "id": "c95c34f8",
   "metadata": {},
   "outputs": [
    {
     "name": "stdout",
     "output_type": "stream",
     "text": [
      "1\n"
     ]
    }
   ],
   "source": [
    "print(d1[\"a\"])"
   ]
  },
  {
   "cell_type": "code",
   "execution_count": 43,
   "id": "9badf3bd",
   "metadata": {},
   "outputs": [],
   "source": [
    "d2 = {'a':[2,3,3,3],\n",
    "     'b':(1,2,3,3,3)\n",
    "     }"
   ]
  },
  {
   "cell_type": "code",
   "execution_count": 9,
   "id": "101e8102",
   "metadata": {},
   "outputs": [
    {
     "data": {
      "text/plain": [
       "{'a': [1, 2, 3, 3, 3], 'b': (1, 2, 3, 3, 3)}"
      ]
     },
     "execution_count": 9,
     "metadata": {},
     "output_type": "execute_result"
    }
   ],
   "source": [
    "d2\n"
   ]
  },
  {
   "cell_type": "code",
   "execution_count": 10,
   "id": "e4d2980f",
   "metadata": {},
   "outputs": [
    {
     "data": {
      "text/plain": [
       "[1, 2, 3, 3, 3]"
      ]
     },
     "execution_count": 10,
     "metadata": {},
     "output_type": "execute_result"
    }
   ],
   "source": [
    "d2['a']"
   ]
  },
  {
   "cell_type": "code",
   "execution_count": 11,
   "id": "db86eb6f",
   "metadata": {},
   "outputs": [
    {
     "data": {
      "text/plain": [
       "2"
      ]
     },
     "execution_count": 11,
     "metadata": {},
     "output_type": "execute_result"
    }
   ],
   "source": [
    "d2['a'][1]"
   ]
  },
  {
   "cell_type": "code",
   "execution_count": 12,
   "id": "3eab7861",
   "metadata": {},
   "outputs": [
    {
     "data": {
      "text/plain": [
       "[]"
      ]
     },
     "execution_count": 12,
     "metadata": {},
     "output_type": "execute_result"
    }
   ],
   "source": [
    "d2['a'][0:2:-1]"
   ]
  },
  {
   "cell_type": "code",
   "execution_count": 13,
   "id": "8c8151f0",
   "metadata": {},
   "outputs": [
    {
     "data": {
      "text/plain": [
       "[3, 2]"
      ]
     },
     "execution_count": 13,
     "metadata": {},
     "output_type": "execute_result"
    }
   ],
   "source": [
    "d2['a'][2:0:-1]"
   ]
  },
  {
   "cell_type": "code",
   "execution_count": 14,
   "id": "9860b625",
   "metadata": {},
   "outputs": [
    {
     "data": {
      "text/plain": [
       "[3, 2, 1]"
      ]
     },
     "execution_count": 14,
     "metadata": {},
     "output_type": "execute_result"
    }
   ],
   "source": [
    "d2['a'][2::-1]"
   ]
  },
  {
   "cell_type": "code",
   "execution_count": 15,
   "id": "1d863704",
   "metadata": {},
   "outputs": [],
   "source": [
    "d2['a'].append(99)"
   ]
  },
  {
   "cell_type": "code",
   "execution_count": 16,
   "id": "9f0b2032",
   "metadata": {},
   "outputs": [
    {
     "data": {
      "text/plain": [
       "[1, 2, 3, 3, 3, 99]"
      ]
     },
     "execution_count": 16,
     "metadata": {},
     "output_type": "execute_result"
    }
   ],
   "source": [
    "d2['a']"
   ]
  },
  {
   "cell_type": "code",
   "execution_count": 18,
   "id": "15eb6362",
   "metadata": {},
   "outputs": [],
   "source": [
    "# WAP to create empyt and single element dictionary\n",
    "d4={}\n",
    "d5={1:3}"
   ]
  },
  {
   "cell_type": "code",
   "execution_count": 21,
   "id": "4e6f3c92",
   "metadata": {},
   "outputs": [
    {
     "name": "stdout",
     "output_type": "stream",
     "text": [
      "<class 'dict'>\n",
      "<class 'dict'>\n"
     ]
    }
   ],
   "source": [
    "print(type(d4))\n",
    "print(type(d5))"
   ]
  },
  {
   "cell_type": "markdown",
   "id": "c86761b7",
   "metadata": {},
   "source": [
    "# Functions in dictionary\n"
   ]
  },
  {
   "cell_type": "code",
   "execution_count": 35,
   "id": "b693f27b",
   "metadata": {},
   "outputs": [],
   "source": [
    "# update function updates the dictionary by the another dictionary\n",
    "\n",
    "d1.update()"
   ]
  },
  {
   "cell_type": "code",
   "execution_count": 36,
   "id": "c79d5c73",
   "metadata": {},
   "outputs": [
    {
     "data": {
      "text/plain": [
       "{'a': [2, 3, 3, 3], 'b': (1, 2, 3, 3, 3)}"
      ]
     },
     "execution_count": 36,
     "metadata": {},
     "output_type": "execute_result"
    }
   ],
   "source": [
    "d1"
   ]
  },
  {
   "cell_type": "code",
   "execution_count": 44,
   "id": "1128ad89",
   "metadata": {},
   "outputs": [],
   "source": [
    "d1.update(d2)"
   ]
  },
  {
   "cell_type": "code",
   "execution_count": 45,
   "id": "aee4dab0",
   "metadata": {},
   "outputs": [
    {
     "data": {
      "text/plain": [
       "{'a': [2, 3, 3, 3], 1: '1', 'b': (1, 2, 3, 3, 3)}"
      ]
     },
     "execution_count": 45,
     "metadata": {},
     "output_type": "execute_result"
    }
   ],
   "source": [
    "d1"
   ]
  },
  {
   "cell_type": "code",
   "execution_count": 55,
   "id": "3c883b03",
   "metadata": {},
   "outputs": [],
   "source": [
    "d1.update({1:\"111\", 2:[1,1,1,1]})"
   ]
  },
  {
   "cell_type": "code",
   "execution_count": 56,
   "id": "8a1f32fc",
   "metadata": {},
   "outputs": [
    {
     "data": {
      "text/plain": [
       "{'a': [2, 3, 3, 3], 'b': (1, 2, 3, 3, 3), 1: '111', 2: [1, 1, 1, 1]}"
      ]
     },
     "execution_count": 56,
     "metadata": {},
     "output_type": "execute_result"
    }
   ],
   "source": [
    "d1"
   ]
  },
  {
   "cell_type": "code",
   "execution_count": 57,
   "id": "e68d211c",
   "metadata": {},
   "outputs": [
    {
     "data": {
      "text/plain": [
       "'111'"
      ]
     },
     "execution_count": 57,
     "metadata": {},
     "output_type": "execute_result"
    }
   ],
   "source": [
    "# pop function pops out the key you want to remove from the dictionary\n",
    "d1.pop(1)"
   ]
  },
  {
   "cell_type": "code",
   "execution_count": 58,
   "id": "5b08ba3c",
   "metadata": {},
   "outputs": [
    {
     "data": {
      "text/plain": [
       "{'a': [2, 3, 3, 3], 'b': (1, 2, 3, 3, 3), 2: [1, 1, 1, 1]}"
      ]
     },
     "execution_count": 58,
     "metadata": {},
     "output_type": "execute_result"
    }
   ],
   "source": [
    "d1"
   ]
  },
  {
   "cell_type": "code",
   "execution_count": 68,
   "id": "885223a8",
   "metadata": {},
   "outputs": [
    {
     "name": "stdout",
     "output_type": "stream",
     "text": [
      "[2, 3, 3, 3]\n",
      "2\n"
     ]
    }
   ],
   "source": [
    "# get just gets the items from a particular key\n",
    "print(d1.get('a'))\n",
    "print(d1['a'][0])"
   ]
  },
  {
   "cell_type": "code",
   "execution_count": 71,
   "id": "786fd04d",
   "metadata": {},
   "outputs": [
    {
     "data": {
      "text/plain": [
       "dict_items([('a', [2, 3, 3, 3]), ('b', (1, 2, 3, 3, 3)), (2, [1, 1, 1, 1])])"
      ]
     },
     "execution_count": 71,
     "metadata": {},
     "output_type": "execute_result"
    }
   ],
   "source": [
    "d1.items()"
   ]
  },
  {
   "cell_type": "code",
   "execution_count": 72,
   "id": "ac6f8570",
   "metadata": {},
   "outputs": [],
   "source": [
    "d1.update({2:8})"
   ]
  },
  {
   "cell_type": "code",
   "execution_count": 73,
   "id": "fffed24b",
   "metadata": {},
   "outputs": [
    {
     "data": {
      "text/plain": [
       "dict_items([('a', [2, 3, 3, 3]), ('b', (1, 2, 3, 3, 3)), (2, 8)])"
      ]
     },
     "execution_count": 73,
     "metadata": {},
     "output_type": "execute_result"
    }
   ],
   "source": [
    "d1.items()"
   ]
  },
  {
   "cell_type": "code",
   "execution_count": 77,
   "id": "61b0acd9",
   "metadata": {},
   "outputs": [],
   "source": [
    "items = d1.items()"
   ]
  },
  {
   "cell_type": "code",
   "execution_count": 78,
   "id": "9f1b3d9a",
   "metadata": {},
   "outputs": [
    {
     "data": {
      "text/plain": [
       "dict_items([('a', [2, 3, 3, 3]), ('b', (1, 2, 3, 3, 3)), (2, 8)])"
      ]
     },
     "execution_count": 78,
     "metadata": {},
     "output_type": "execute_result"
    }
   ],
   "source": [
    "items"
   ]
  },
  {
   "cell_type": "code",
   "execution_count": 84,
   "id": "b41df5e7",
   "metadata": {},
   "outputs": [
    {
     "data": {
      "text/plain": [
       "dict_items"
      ]
     },
     "execution_count": 84,
     "metadata": {},
     "output_type": "execute_result"
    }
   ],
   "source": [
    "# items just show the list of the variables of the dict, it doesn't return the list itself, same for keys(), values()\n",
    "type(items)"
   ]
  },
  {
   "cell_type": "code",
   "execution_count": 85,
   "id": "5f43b21c",
   "metadata": {},
   "outputs": [
    {
     "data": {
      "text/plain": [
       "dict_keys(['a', 'b', 2])"
      ]
     },
     "execution_count": 85,
     "metadata": {},
     "output_type": "execute_result"
    }
   ],
   "source": [
    "d1.keys()"
   ]
  },
  {
   "cell_type": "code",
   "execution_count": 86,
   "id": "28a5b0f0",
   "metadata": {},
   "outputs": [
    {
     "data": {
      "text/plain": [
       "dict_values([[2, 3, 3, 3], (1, 2, 3, 3, 3), 8])"
      ]
     },
     "execution_count": 86,
     "metadata": {},
     "output_type": "execute_result"
    }
   ],
   "source": [
    "d1.values()"
   ]
  },
  {
   "cell_type": "code",
   "execution_count": null,
   "id": "0f470500",
   "metadata": {},
   "outputs": [],
   "source": []
  }
 ],
 "metadata": {
  "kernelspec": {
   "display_name": "Python 3 (ipykernel)",
   "language": "python",
   "name": "python3"
  },
  "language_info": {
   "codemirror_mode": {
    "name": "ipython",
    "version": 3
   },
   "file_extension": ".py",
   "mimetype": "text/x-python",
   "name": "python",
   "nbconvert_exporter": "python",
   "pygments_lexer": "ipython3",
   "version": "3.9.12"
  }
 },
 "nbformat": 4,
 "nbformat_minor": 5
}
