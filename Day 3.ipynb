{
 "cells": [
  {
   "cell_type": "code",
   "execution_count": 5,
   "id": "8aae5b8b",
   "metadata": {},
   "outputs": [
    {
     "name": "stdout",
     "output_type": "stream",
     "text": [
      "Enter Your Salary : 100000\n",
      "Enter years of service : 2\n",
      "0\n",
      "100000\n"
     ]
    }
   ],
   "source": [
    "sal = int(input(\"Enter Your Salary : \"))\n",
    "yos = int(input(\"Enter years of service : \"))\n",
    "if yos>5:\n",
    "    bonus=(sal*5)/100\n",
    "else:\n",
    "    bonus=0\n",
    "print(bonus)\n",
    "print(sal+bonus)"
   ]
  },
  {
   "cell_type": "code",
   "execution_count": 9,
   "id": "27fa6526",
   "metadata": {},
   "outputs": [
    {
     "name": "stdout",
     "output_type": "stream",
     "text": [
      "Enter the length : 8\n",
      "Enter the breadth : 25\n",
      "Rectangle\n"
     ]
    }
   ],
   "source": [
    "ln = float(input(\"Enter the length : \"))\n",
    "bd = float(input(\"Enter the breadth : \"))\n",
    "if ln==bd:\n",
    "    print(\"Square\")\n",
    "else:\n",
    "    print(\"Rectangle\")"
   ]
  },
  {
   "cell_type": "code",
   "execution_count": 12,
   "id": "35ad4d4d",
   "metadata": {},
   "outputs": [
    {
     "name": "stdout",
     "output_type": "stream",
     "text": [
      "Enter first number :- 25\n",
      "Enter second number :- 25\n",
      "both are equal\n"
     ]
    }
   ],
   "source": [
    "a = int(input(\"Enter first number :- \"))\n",
    "b = int(input(\"Enter second number :- \"))\n",
    "if a>b:\n",
    "    print(a,\" is greater\")\n",
    "elif a==b:\n",
    "    print(\"both are equal\")\n",
    "else:\n",
    "    print(b,\" is greater\")"
   ]
  },
  {
   "cell_type": "code",
   "execution_count": 17,
   "id": "137076ac",
   "metadata": {},
   "outputs": [
    {
     "name": "stdout",
     "output_type": "stream",
     "text": [
      "Enter first age :- 10\n",
      "Enter second age :- 25\n",
      "Enter third age :- 1\n",
      "Person with age  25  is oldest\n",
      "Person with age  1  is youngest\n"
     ]
    }
   ],
   "source": [
    "age1 = int(input(\"Enter first age :- \"))\n",
    "age2 = int(input(\"Enter second age :- \"))\n",
    "age3 = int(input(\"Enter third age :- \"))\n",
    "if age1>age2 and age1>age3:\n",
    "    print(\"Person with age \",age1,\" is oldest\")\n",
    "elif age2>age1 and age2>age3:\n",
    "    print(\"Person with age \",age2,\" is oldest\")\n",
    "elif age3>age2 and age3>age1:\n",
    "    print(\"Person with age \",age3,\" is oldest\")\n",
    "else:\n",
    "    print(\"Please enter differet different values\")\n",
    "\n",
    "if age1<age2 and age1<age3:\n",
    "    print(\"Person with age \",age1,\" is youngest\")\n",
    "elif age2<age1 and age2<age3:\n",
    "    print(\"Person with age \",age2,\" is youngest\")\n",
    "elif age3<age2 and age3<age1:\n",
    "    print(\"Person with age \",age3,\" is youngest\")\n",
    "else:\n",
    "    print(\"Please enter differet different values\")"
   ]
  },
  {
   "cell_type": "code",
   "execution_count": 19,
   "id": "9ae175a1",
   "metadata": {},
   "outputs": [
    {
     "name": "stdout",
     "output_type": "stream",
     "text": [
      "Enter Quantity : 11\n",
      "You got a discount, Now you have to pay the amt of  990.0\n"
     ]
    }
   ],
   "source": [
    "qty = float(input(\"Enter Quantity : \"))\n",
    "cost = qty*100\n",
    "\n",
    "if cost>1000:\n",
    "    cost=cost-((cost*10)/100)\n",
    "    print(\"You got a discount, Now you have to pay the amt of \", cost)\n",
    "else:\n",
    "    print(\"You have to pay the amt of \", cost)"
   ]
  },
  {
   "cell_type": "code",
   "execution_count": 25,
   "id": "41f81402",
   "metadata": {},
   "outputs": [
    {
     "name": "stdout",
     "output_type": "stream",
     "text": [
      "Enter your marks : 81\n",
      "A\n"
     ]
    }
   ],
   "source": [
    "# Grading system\n",
    "#25 45 50 60 80\n",
    "marks = int(input(\"Enter your marks : \"))\n",
    "if marks>80:\n",
    "    print(\"A\")\n",
    "elif marks>60 and marks<=80:\n",
    "    print(\"B\")\n",
    "elif marks>50 and marks<=60:\n",
    "    print(\"C\")\n",
    "elif marks>45 and marks<=50:\n",
    "    print(\"D\")\n",
    "elif marks>=25 and marks<=45:\n",
    "    print(\"E\")\n",
    "else:\n",
    "    print(\"F\")"
   ]
  },
  {
   "cell_type": "code",
   "execution_count": 27,
   "id": "3810e709",
   "metadata": {},
   "outputs": [
    {
     "name": "stdout",
     "output_type": "stream",
     "text": [
      "Enter total number of class :- 100\n",
      "Enter number of classes attended by you :- 90\n",
      "Allowed\n"
     ]
    }
   ],
   "source": [
    "hld_cls = int(input(\"Enter total number of class :- \"))\n",
    "atd_cls = int(input(\"Enter number of classes attended by you :- \"))\n",
    "per = (atd_cls*100)/hld_cls\n",
    "if per>=75:\n",
    "    print(\"Allowed\")\n",
    "else:\n",
    "    cause = input(\"Enter 'Y' if there is any medical reason, else 'N' :- \")\n",
    "    if cause=='Y':\n",
    "        print(\"Allowed\")\n",
    "    else:\n",
    "        print(\"Not Allowed\")"
   ]
  },
  {
   "cell_type": "code",
   "execution_count": null,
   "id": "592c0951",
   "metadata": {},
   "outputs": [],
   "source": []
  }
 ],
 "metadata": {
  "kernelspec": {
   "display_name": "Python 3 (ipykernel)",
   "language": "python",
   "name": "python3"
  },
  "language_info": {
   "codemirror_mode": {
    "name": "ipython",
    "version": 3
   },
   "file_extension": ".py",
   "mimetype": "text/x-python",
   "name": "python",
   "nbconvert_exporter": "python",
   "pygments_lexer": "ipython3",
   "version": "3.9.12"
  }
 },
 "nbformat": 4,
 "nbformat_minor": 5
}
