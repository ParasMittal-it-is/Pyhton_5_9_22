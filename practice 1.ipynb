{
 "cells": [
  {
   "cell_type": "code",
   "execution_count": 5,
   "id": "aca6ffd5",
   "metadata": {},
   "outputs": [
    {
     "name": "stdout",
     "output_type": "stream",
     "text": [
      "Enter any string :- Paras\n",
      "Paas\n"
     ]
    }
   ],
   "source": [
    "# remove the character at 3rd place\n",
    "# n-1\n",
    "str1 = input(\"Enter any string :- \")\n",
    "str2 = \"\"\n",
    "for i in str1:\n",
    "    if i != str1[2]:\n",
    "        str2 = str2+i\n",
    "print(str2)\n",
    "    "
   ]
  },
  {
   "cell_type": "code",
   "execution_count": 7,
   "id": "a9e227fa",
   "metadata": {},
   "outputs": [
    {
     "name": "stdout",
     "output_type": "stream",
     "text": [
      "Enter the string :- Parasa\n",
      "6\n"
     ]
    }
   ],
   "source": [
    "# Find length of a string in python\n",
    "str1 = input(\"Enter the string :- \")\n",
    "count = 0\n",
    "for i in str1:\n",
    "    count+=1\n",
    "print(count)"
   ]
  },
  {
   "cell_type": "code",
   "execution_count": 9,
   "id": "a2dc9937",
   "metadata": {},
   "outputs": [],
   "source": [
    "# Python Program to print even length word in a string\n"
   ]
  },
  {
   "cell_type": "code",
   "execution_count": null,
   "id": "27f849ff",
   "metadata": {},
   "outputs": [],
   "source": []
  }
 ],
 "metadata": {
  "kernelspec": {
   "display_name": "Python 3 (ipykernel)",
   "language": "python",
   "name": "python3"
  },
  "language_info": {
   "codemirror_mode": {
    "name": "ipython",
    "version": 3
   },
   "file_extension": ".py",
   "mimetype": "text/x-python",
   "name": "python",
   "nbconvert_exporter": "python",
   "pygments_lexer": "ipython3",
   "version": "3.9.12"
  }
 },
 "nbformat": 4,
 "nbformat_minor": 5
}
